{
 "cells": [
  {
   "cell_type": "markdown",
   "metadata": {},
   "source": [
    "## Answer/Execute the following statements:\n",
    "\n",
    "1. Load data set C_Online_Retail.xlsx as df.\n",
    "2. Are there negative quantities and prices at same register?\n",
    "3. How many registers do we have where quantity is negative and prices is 0 or vice-versa.\n",
    "4. What is common in the invoices with negative quantity?\n",
    "5. How many registers do we have where UnitPrice is negative? And what are their CustomerIDs?\n",
    "6. Drop all the NaN in the CustomerID column.\n",
    "7. How many sales records do we have with Customer ID and zero in Unit Price?\n",
    "8. Look at the description and uniqueness of StockCode and Description by running this:"
   ]
  },
  {
   "cell_type": "code",
   "execution_count": 135,
   "metadata": {},
   "outputs": [],
   "source": [
    "import pandas as pd"
   ]
  },
  {
   "cell_type": "code",
   "execution_count": 136,
   "metadata": {},
   "outputs": [],
   "source": [
    "df = pd.read_excel('C_Online_Retail.xlsx')\n"
   ]
  },
  {
   "cell_type": "code",
   "execution_count": 137,
   "metadata": {},
   "outputs": [],
   "source": [
    "df['price'] = df['Quantity']*df['UnitPrice']"
   ]
  },
  {
   "cell_type": "code",
   "execution_count": 138,
   "metadata": {},
   "outputs": [
    {
     "data": {
      "text/html": [
       "<div>\n",
       "<style scoped>\n",
       "    .dataframe tbody tr th:only-of-type {\n",
       "        vertical-align: middle;\n",
       "    }\n",
       "\n",
       "    .dataframe tbody tr th {\n",
       "        vertical-align: top;\n",
       "    }\n",
       "\n",
       "    .dataframe thead th {\n",
       "        text-align: right;\n",
       "    }\n",
       "</style>\n",
       "<table border=\"1\" class=\"dataframe\">\n",
       "  <thead>\n",
       "    <tr style=\"text-align: right;\">\n",
       "      <th></th>\n",
       "      <th>InvoiceNo</th>\n",
       "      <th>StockCode</th>\n",
       "      <th>Description</th>\n",
       "      <th>Quantity</th>\n",
       "      <th>InvoiceDate</th>\n",
       "      <th>UnitPrice</th>\n",
       "      <th>CustomerID</th>\n",
       "      <th>Country</th>\n",
       "      <th>price</th>\n",
       "    </tr>\n",
       "  </thead>\n",
       "  <tbody>\n",
       "    <tr>\n",
       "      <th>0</th>\n",
       "      <td>536365</td>\n",
       "      <td>85123A</td>\n",
       "      <td>WHITE HANGING HEART T-LIGHT HOLDER</td>\n",
       "      <td>6</td>\n",
       "      <td>2010-12-01 08:26:00</td>\n",
       "      <td>2.55</td>\n",
       "      <td>17850.0</td>\n",
       "      <td>United Kingdom</td>\n",
       "      <td>15.30</td>\n",
       "    </tr>\n",
       "    <tr>\n",
       "      <th>1</th>\n",
       "      <td>536365</td>\n",
       "      <td>71053</td>\n",
       "      <td>WHITE METAL LANTERN</td>\n",
       "      <td>6</td>\n",
       "      <td>2010-12-01 08:26:00</td>\n",
       "      <td>3.39</td>\n",
       "      <td>17850.0</td>\n",
       "      <td>United Kingdom</td>\n",
       "      <td>20.34</td>\n",
       "    </tr>\n",
       "    <tr>\n",
       "      <th>2</th>\n",
       "      <td>536365</td>\n",
       "      <td>84406B</td>\n",
       "      <td>CREAM CUPID HEARTS COAT HANGER</td>\n",
       "      <td>8</td>\n",
       "      <td>2010-12-01 08:26:00</td>\n",
       "      <td>2.75</td>\n",
       "      <td>17850.0</td>\n",
       "      <td>United Kingdom</td>\n",
       "      <td>22.00</td>\n",
       "    </tr>\n",
       "    <tr>\n",
       "      <th>3</th>\n",
       "      <td>536365</td>\n",
       "      <td>84029G</td>\n",
       "      <td>KNITTED UNION FLAG HOT WATER BOTTLE</td>\n",
       "      <td>6</td>\n",
       "      <td>2010-12-01 08:26:00</td>\n",
       "      <td>3.39</td>\n",
       "      <td>17850.0</td>\n",
       "      <td>United Kingdom</td>\n",
       "      <td>20.34</td>\n",
       "    </tr>\n",
       "    <tr>\n",
       "      <th>4</th>\n",
       "      <td>536365</td>\n",
       "      <td>84029E</td>\n",
       "      <td>RED WOOLLY HOTTIE WHITE HEART.</td>\n",
       "      <td>6</td>\n",
       "      <td>2010-12-01 08:26:00</td>\n",
       "      <td>3.39</td>\n",
       "      <td>17850.0</td>\n",
       "      <td>United Kingdom</td>\n",
       "      <td>20.34</td>\n",
       "    </tr>\n",
       "  </tbody>\n",
       "</table>\n",
       "</div>"
      ],
      "text/plain": [
       "  InvoiceNo StockCode                          Description  Quantity  \\\n",
       "0    536365    85123A   WHITE HANGING HEART T-LIGHT HOLDER         6   \n",
       "1    536365     71053                  WHITE METAL LANTERN         6   \n",
       "2    536365    84406B       CREAM CUPID HEARTS COAT HANGER         8   \n",
       "3    536365    84029G  KNITTED UNION FLAG HOT WATER BOTTLE         6   \n",
       "4    536365    84029E       RED WOOLLY HOTTIE WHITE HEART.         6   \n",
       "\n",
       "          InvoiceDate  UnitPrice  CustomerID         Country  price  \n",
       "0 2010-12-01 08:26:00       2.55     17850.0  United Kingdom  15.30  \n",
       "1 2010-12-01 08:26:00       3.39     17850.0  United Kingdom  20.34  \n",
       "2 2010-12-01 08:26:00       2.75     17850.0  United Kingdom  22.00  \n",
       "3 2010-12-01 08:26:00       3.39     17850.0  United Kingdom  20.34  \n",
       "4 2010-12-01 08:26:00       3.39     17850.0  United Kingdom  20.34  "
      ]
     },
     "execution_count": 138,
     "metadata": {},
     "output_type": "execute_result"
    }
   ],
   "source": [
    "df.head()"
   ]
  },
  {
   "cell_type": "code",
   "execution_count": 139,
   "metadata": {},
   "outputs": [
    {
     "data": {
      "text/html": [
       "<div>\n",
       "<style scoped>\n",
       "    .dataframe tbody tr th:only-of-type {\n",
       "        vertical-align: middle;\n",
       "    }\n",
       "\n",
       "    .dataframe tbody tr th {\n",
       "        vertical-align: top;\n",
       "    }\n",
       "\n",
       "    .dataframe thead th {\n",
       "        text-align: right;\n",
       "    }\n",
       "</style>\n",
       "<table border=\"1\" class=\"dataframe\">\n",
       "  <thead>\n",
       "    <tr style=\"text-align: right;\">\n",
       "      <th></th>\n",
       "      <th>InvoiceNo</th>\n",
       "      <th>StockCode</th>\n",
       "      <th>Description</th>\n",
       "      <th>Quantity</th>\n",
       "      <th>InvoiceDate</th>\n",
       "      <th>UnitPrice</th>\n",
       "      <th>CustomerID</th>\n",
       "      <th>Country</th>\n",
       "      <th>price</th>\n",
       "    </tr>\n",
       "  </thead>\n",
       "  <tbody>\n",
       "    <tr>\n",
       "      <th>141</th>\n",
       "      <td>C536379</td>\n",
       "      <td>D</td>\n",
       "      <td>Discount</td>\n",
       "      <td>-1</td>\n",
       "      <td>2010-12-01 09:41:00</td>\n",
       "      <td>27.50</td>\n",
       "      <td>14527.0</td>\n",
       "      <td>United Kingdom</td>\n",
       "      <td>-27.50</td>\n",
       "    </tr>\n",
       "    <tr>\n",
       "      <th>154</th>\n",
       "      <td>C536383</td>\n",
       "      <td>35004C</td>\n",
       "      <td>SET OF 3 COLOURED  FLYING DUCKS</td>\n",
       "      <td>-1</td>\n",
       "      <td>2010-12-01 09:49:00</td>\n",
       "      <td>4.65</td>\n",
       "      <td>15311.0</td>\n",
       "      <td>United Kingdom</td>\n",
       "      <td>-4.65</td>\n",
       "    </tr>\n",
       "    <tr>\n",
       "      <th>235</th>\n",
       "      <td>C536391</td>\n",
       "      <td>22556</td>\n",
       "      <td>PLASTERS IN TIN CIRCUS PARADE</td>\n",
       "      <td>-12</td>\n",
       "      <td>2010-12-01 10:24:00</td>\n",
       "      <td>1.65</td>\n",
       "      <td>17548.0</td>\n",
       "      <td>United Kingdom</td>\n",
       "      <td>-19.80</td>\n",
       "    </tr>\n",
       "    <tr>\n",
       "      <th>236</th>\n",
       "      <td>C536391</td>\n",
       "      <td>21984</td>\n",
       "      <td>PACK OF 12 PINK PAISLEY TISSUES</td>\n",
       "      <td>-24</td>\n",
       "      <td>2010-12-01 10:24:00</td>\n",
       "      <td>0.29</td>\n",
       "      <td>17548.0</td>\n",
       "      <td>United Kingdom</td>\n",
       "      <td>-6.96</td>\n",
       "    </tr>\n",
       "    <tr>\n",
       "      <th>237</th>\n",
       "      <td>C536391</td>\n",
       "      <td>21983</td>\n",
       "      <td>PACK OF 12 BLUE PAISLEY TISSUES</td>\n",
       "      <td>-24</td>\n",
       "      <td>2010-12-01 10:24:00</td>\n",
       "      <td>0.29</td>\n",
       "      <td>17548.0</td>\n",
       "      <td>United Kingdom</td>\n",
       "      <td>-6.96</td>\n",
       "    </tr>\n",
       "    <tr>\n",
       "      <th>...</th>\n",
       "      <td>...</td>\n",
       "      <td>...</td>\n",
       "      <td>...</td>\n",
       "      <td>...</td>\n",
       "      <td>...</td>\n",
       "      <td>...</td>\n",
       "      <td>...</td>\n",
       "      <td>...</td>\n",
       "      <td>...</td>\n",
       "    </tr>\n",
       "    <tr>\n",
       "      <th>540449</th>\n",
       "      <td>C581490</td>\n",
       "      <td>23144</td>\n",
       "      <td>ZINC T-LIGHT HOLDER STARS SMALL</td>\n",
       "      <td>-11</td>\n",
       "      <td>2011-12-09 09:57:00</td>\n",
       "      <td>0.83</td>\n",
       "      <td>14397.0</td>\n",
       "      <td>United Kingdom</td>\n",
       "      <td>-9.13</td>\n",
       "    </tr>\n",
       "    <tr>\n",
       "      <th>541541</th>\n",
       "      <td>C581499</td>\n",
       "      <td>M</td>\n",
       "      <td>Manual</td>\n",
       "      <td>-1</td>\n",
       "      <td>2011-12-09 10:28:00</td>\n",
       "      <td>224.69</td>\n",
       "      <td>15498.0</td>\n",
       "      <td>United Kingdom</td>\n",
       "      <td>-224.69</td>\n",
       "    </tr>\n",
       "    <tr>\n",
       "      <th>541715</th>\n",
       "      <td>C581568</td>\n",
       "      <td>21258</td>\n",
       "      <td>VICTORIAN SEWING BOX LARGE</td>\n",
       "      <td>-5</td>\n",
       "      <td>2011-12-09 11:57:00</td>\n",
       "      <td>10.95</td>\n",
       "      <td>15311.0</td>\n",
       "      <td>United Kingdom</td>\n",
       "      <td>-54.75</td>\n",
       "    </tr>\n",
       "    <tr>\n",
       "      <th>541716</th>\n",
       "      <td>C581569</td>\n",
       "      <td>84978</td>\n",
       "      <td>HANGING HEART JAR T-LIGHT HOLDER</td>\n",
       "      <td>-1</td>\n",
       "      <td>2011-12-09 11:58:00</td>\n",
       "      <td>1.25</td>\n",
       "      <td>17315.0</td>\n",
       "      <td>United Kingdom</td>\n",
       "      <td>-1.25</td>\n",
       "    </tr>\n",
       "    <tr>\n",
       "      <th>541717</th>\n",
       "      <td>C581569</td>\n",
       "      <td>20979</td>\n",
       "      <td>36 PENCILS TUBE RED RETROSPOT</td>\n",
       "      <td>-5</td>\n",
       "      <td>2011-12-09 11:58:00</td>\n",
       "      <td>1.25</td>\n",
       "      <td>17315.0</td>\n",
       "      <td>United Kingdom</td>\n",
       "      <td>-6.25</td>\n",
       "    </tr>\n",
       "  </tbody>\n",
       "</table>\n",
       "<p>9288 rows × 9 columns</p>\n",
       "</div>"
      ],
      "text/plain": [
       "       InvoiceNo StockCode                       Description  Quantity  \\\n",
       "141      C536379         D                          Discount        -1   \n",
       "154      C536383    35004C   SET OF 3 COLOURED  FLYING DUCKS        -1   \n",
       "235      C536391     22556    PLASTERS IN TIN CIRCUS PARADE        -12   \n",
       "236      C536391     21984  PACK OF 12 PINK PAISLEY TISSUES        -24   \n",
       "237      C536391     21983  PACK OF 12 BLUE PAISLEY TISSUES        -24   \n",
       "...          ...       ...                               ...       ...   \n",
       "540449   C581490     23144   ZINC T-LIGHT HOLDER STARS SMALL       -11   \n",
       "541541   C581499         M                            Manual        -1   \n",
       "541715   C581568     21258        VICTORIAN SEWING BOX LARGE        -5   \n",
       "541716   C581569     84978  HANGING HEART JAR T-LIGHT HOLDER        -1   \n",
       "541717   C581569     20979     36 PENCILS TUBE RED RETROSPOT        -5   \n",
       "\n",
       "               InvoiceDate  UnitPrice  CustomerID         Country   price  \n",
       "141    2010-12-01 09:41:00      27.50     14527.0  United Kingdom  -27.50  \n",
       "154    2010-12-01 09:49:00       4.65     15311.0  United Kingdom   -4.65  \n",
       "235    2010-12-01 10:24:00       1.65     17548.0  United Kingdom  -19.80  \n",
       "236    2010-12-01 10:24:00       0.29     17548.0  United Kingdom   -6.96  \n",
       "237    2010-12-01 10:24:00       0.29     17548.0  United Kingdom   -6.96  \n",
       "...                    ...        ...         ...             ...     ...  \n",
       "540449 2011-12-09 09:57:00       0.83     14397.0  United Kingdom   -9.13  \n",
       "541541 2011-12-09 10:28:00     224.69     15498.0  United Kingdom -224.69  \n",
       "541715 2011-12-09 11:57:00      10.95     15311.0  United Kingdom  -54.75  \n",
       "541716 2011-12-09 11:58:00       1.25     17315.0  United Kingdom   -1.25  \n",
       "541717 2011-12-09 11:58:00       1.25     17315.0  United Kingdom   -6.25  \n",
       "\n",
       "[9288 rows x 9 columns]"
      ]
     },
     "execution_count": 139,
     "metadata": {},
     "output_type": "execute_result"
    }
   ],
   "source": [
    "df[(df['Quantity']<0) &(df['price']<0)]"
   ]
  },
  {
   "cell_type": "code",
   "execution_count": 140,
   "metadata": {},
   "outputs": [
    {
     "data": {
      "text/plain": [
       "1336"
      ]
     },
     "execution_count": 140,
     "metadata": {},
     "output_type": "execute_result"
    }
   ],
   "source": [
    "df[(df['Quantity']<0)&(df['price']==0)].shape[0]"
   ]
  },
  {
   "cell_type": "code",
   "execution_count": 141,
   "metadata": {},
   "outputs": [
    {
     "data": {
      "text/plain": [
       "array([-2.750000e+01, -4.650000e+00, -1.980000e+01, ..., -8.200000e+00,\n",
       "       -1.684696e+05, -2.246900e+02])"
      ]
     },
     "execution_count": 141,
     "metadata": {},
     "output_type": "execute_result"
    }
   ],
   "source": [
    "df[df['Quantity']<0]['price'].unique()"
   ]
  },
  {
   "cell_type": "code",
   "execution_count": 142,
   "metadata": {},
   "outputs": [
    {
     "data": {
      "text/plain": [
       "array([2.750000e+01, 4.650000e+00, 1.650000e+00, 2.900000e-01,\n",
       "       3.450000e+00, 4.250000e+00, 2.100000e+00, 8.500000e-01,\n",
       "       1.950000e+00, 2.950000e+00, 1.250000e+00, 5.950000e+00,\n",
       "       9.950000e+00, 8.500000e+00, 3.750000e+00, 1.450000e+00,\n",
       "       0.000000e+00, 1.495000e+01, 7.950000e+00, 3.000000e-02,\n",
       "       3.950000e+00, 7.200000e-01, 1.275000e+01, 2.550000e+00,\n",
       "       4.200000e-01, 6.950000e+00, 3.250000e+00, 1.095000e+01,\n",
       "       1.695000e+01, 4.950000e+00, 1.075000e+01, 7.650000e+00,\n",
       "       6.750000e+00, 1.690000e+00, 2.195000e+01, 2.929000e+01,\n",
       "       8.950000e+00, 4.410000e+00, 6.350000e+00, 9.538000e+01,\n",
       "       1.295000e+01, 5.200000e+01, 2.810000e+02, 1.000000e+00,\n",
       "       6.313100e+02, 3.137800e+02, 1.354133e+04, 1.347479e+04,\n",
       "       5.519250e+03, 6.706710e+03, 5.550000e+00, 6.400000e-01,\n",
       "       1.060000e+00, 2.671200e+02, 3.350000e+00, 5.500000e-01,\n",
       "       6.500000e-01, 5.000000e-01, 1.330800e+02, 1.850000e+00,\n",
       "       6.450000e+00, 9.669200e+02, 3.163000e+02, 1.130900e+03,\n",
       "       3.490000e+00, 5.760000e+00, 4.250000e+01, 2.693000e+01,\n",
       "       3.810000e+00, 1.234000e+01, 5.450000e+00, 3.500000e+00,\n",
       "       1.750000e+02, 1.800000e+01, 2.950000e+02, 2.750000e+00,\n",
       "       1.900000e-01, 1.388000e+01, 7.500000e-01, 2.495000e+01,\n",
       "       2.250000e+00, 5.750000e+00, 4.000000e+01, 1.688802e+04,\n",
       "       1.645371e+04, 3.800000e-01, 5.000000e+01, 2.297000e+01,\n",
       "       1.490000e+00, 1.595000e+01, 4.582900e+02, 3.509000e+01,\n",
       "       1.126000e+03, 3.390000e+00, 5.720000e+00, 2.655000e+02,\n",
       "       3.000000e+00, 1.299000e+01, 3.495000e+01, 7.060000e+00,\n",
       "       8.700000e-01, 1.040000e+00, 5.444000e+02, 1.283800e+03,\n",
       "       1.050150e+03, 8.490000e+00, 3.995000e+01, 9.500000e-01,\n",
       "       2.100000e-01, 6.500000e+01, 1.250000e+02, 1.715850e+03,\n",
       "       3.290000e+00, 8.290000e+00, 4.000000e+00, 1.500000e+01,\n",
       "       4.100000e-01, 2.995000e+01, 4.150000e+00, 4.500000e+00,\n",
       "       7.146000e+01, 6.427000e+01, 6.591000e+01, 8.564800e+02,\n",
       "       8.480000e+01, 1.908000e+02, 7.001000e+01, 2.081600e+02,\n",
       "       1.435790e+03, 5.663700e+02, 8.695500e+02, 8.250000e+01,\n",
       "       1.347600e+02, 1.491600e+02, 3.206900e+02, 5.740000e+00,\n",
       "       1.108000e+01, 5.790000e+00, 6.700000e+00, 8.740000e+00,\n",
       "       9.740000e+00, 9.990000e+00, 2.098000e+01, 7.690000e+00,\n",
       "       5.440000e+00, 7.000000e+00, 1.000000e+01, 1.950000e+01,\n",
       "       2.055000e+01, 2.999000e+01, 1.294000e+01, 9.200000e+01,\n",
       "       1.079900e+02, 5.500000e+01, 1.285600e+02, 3.950000e+01,\n",
       "       3.749000e+01, 3.198000e+01, 2.800000e+00, 4.590000e+00,\n",
       "       9.500000e+01, 1.098400e+02, 5.575280e+03, 5.258770e+03,\n",
       "       2.190000e+01, 3.019000e+01, 2.800500e+02, 1.837500e+02,\n",
       "       3.765000e+02, 3.038000e+01, 1.000000e-02, 8.500000e+01,\n",
       "       1.065000e+01, 8.300000e-01, 4.557000e+01, 8.650000e+00,\n",
       "       5.378300e+02, 2.225900e+02, 3.266800e+02, 1.605000e+01,\n",
       "       1.755000e+01, 9.870000e+00, 7.000000e-01, 1.720000e+00,\n",
       "       2.840000e+00, 4.400000e+00, 1.687170e+03, 2.583760e+03,\n",
       "       2.500000e+00, 9.100000e-01, 4.500000e-01, 6.700000e-01,\n",
       "       5.693000e+01, 5.099000e+01, 6.585000e+01, 1.905000e+01,\n",
       "       5.693050e+03, 5.225030e+03, 7.900000e+00, 6.600000e-01,\n",
       "       2.890000e+00, 5.589000e+01, 1.486120e+03, 2.197600e+02,\n",
       "       1.866000e+01, 4.167500e+02, 6.464600e+02, 3.845000e+01,\n",
       "       1.339000e+01, 3.250000e+02, 2.970000e+01, 1.652900e+02,\n",
       "       2.700000e+00, 2.080000e+00, 1.622400e+02, 5.700000e+00,\n",
       "       7.880000e+00, 2.200000e-01, 5.760000e+01, 1.452000e+01,\n",
       "       7.600000e-01, 5.995000e+01, 1.626000e+02, 2.382920e+03,\n",
       "       2.393000e+02, 1.252950e+03, 2.053070e+03, 1.136300e+03,\n",
       "       3.900000e-01, 7.900000e-01, 1.867860e+03, 1.505000e+01,\n",
       "       9.735000e+01, 3.600000e-01, 2.227500e+02, 1.100000e+01,\n",
       "       8.250000e+00, 1.790000e+00, 1.582100e+02, 3.820000e+00,\n",
       "       2.178000e+01, 3.960000e+00, 4.756900e+02, 6.780300e+02,\n",
       "       1.949700e+02, 2.400000e-01, 1.200000e+02, 1.176000e+01,\n",
       "       1.010000e+00, 1.040000e+01, 8.142750e+03, 6.930000e+03,\n",
       "       1.894400e+02, 1.184000e+01, 5.870800e+02, 4.402900e+02,\n",
       "       5.985900e+02, 3.347100e+02, 2.490000e+00, 3.150000e+00,\n",
       "       5.100000e+00, 9.299000e+02, 1.600000e-01, 5.577200e+02,\n",
       "       5.876400e+03, 7.006830e+03, 1.929000e+01, 2.607000e+02,\n",
       "       3.565000e+01, 2.930800e+02, 1.685000e+01, 2.333700e+02,\n",
       "       1.875000e+01, 2.737900e+02, 2.742000e+01, 2.697000e+02,\n",
       "       9.840000e+00, 6.650000e+00, 8.690000e+01, 1.035800e+02,\n",
       "       8.273000e+01, 1.240000e+00, 2.980000e+00, 5.000000e+00,\n",
       "       1.600000e+01, 8.699000e+01, 1.550000e+01, 7.600000e+01,\n",
       "       8.701000e+01, 8.150000e+00, 2.930000e+02, 1.950000e+02,\n",
       "       1.596000e+01, 3.710000e+00, 7.500000e+00, 2.000000e-01,\n",
       "       1.076000e+01, 1.650000e+01, 4.995000e+01, 6.250000e+00,\n",
       "       6.500000e+00, 7.500000e+01, 1.241980e+03, 1.250000e+01,\n",
       "       6.900000e-01, 6.000000e+01, 9.150000e+00, 1.026400e+02,\n",
       "       1.100000e-01, 1.170000e+01, 1.200000e-01, 4.200000e+01,\n",
       "       5.390000e+00, 2.092000e+01, 2.804000e+01, 6.000000e+02,\n",
       "       4.050000e+00, 3.897000e+04, 2.000000e+01, 4.175000e+01,\n",
       "       9.158000e+01, 3.066000e+02, 4.645200e+02, 7.023800e+02,\n",
       "       1.299000e+02, 1.442000e+01, 2.170000e+00, 1.650000e+02,\n",
       "       7.700000e-01, 1.216120e+03, 1.917000e+03, 5.800000e+00,\n",
       "       5.455800e+02, 2.320000e+00, 5.791180e+03, 4.534240e+03,\n",
       "       5.422000e+02, 6.150000e+00, 3.590000e+00, 1.492000e+01,\n",
       "       9.900000e+00, 8.289000e+01, 4.370000e+00, 3.560000e+00,\n",
       "       5.700000e+02, 1.760000e+00, 8.000000e-02, 3.896800e+02,\n",
       "       4.900000e+00, 3.520000e+00, 1.550000e+00, 5.900000e-01,\n",
       "       2.880000e+00, 9.360000e+00, 4.800000e-01, 7.620000e+00,\n",
       "       4.383620e+03, 6.497470e+03, 1.399000e+01, 4.287630e+03,\n",
       "       9.720000e+00, 5.506400e+02, 7.172300e+02, 1.592490e+03,\n",
       "       6.118600e+02, 2.949200e+02, 7.054500e+02, 1.123500e+02,\n",
       "       1.064000e+02, 4.514200e+02, 3.060600e+03, 7.702600e+02,\n",
       "       3.673800e+02, 1.215000e+01, 6.624000e+01, 4.560000e+01,\n",
       "       2.605000e+01, 9.600000e+00, 4.130000e+00, 4.575640e+03,\n",
       "       6.721370e+03, 7.000000e-02, 1.195000e+01, 4.363000e+01,\n",
       "       1.400000e-01, 6.760000e+00, 4.800000e+01, 3.155950e+03,\n",
       "       1.034000e+01, 2.500000e+02, 6.400000e+01, 1.121180e+03,\n",
       "       1.800000e+00, 5.490000e+00, 4.345100e+02, 6.124600e+02,\n",
       "       4.136800e+02, 7.933200e+02, 2.064000e+02, 5.829000e+01,\n",
       "       4.527650e+03, 6.662510e+03, 8.306000e+01, 2.801700e+02,\n",
       "       1.620000e+02, 1.152000e+01, 2.390700e+02, 3.490000e+01,\n",
       "       8.383000e+01, 7.763000e+01, 1.600000e+00, 1.667000e+01,\n",
       "       1.507000e+01, 1.006000e+01, 1.300000e+01, 8.740000e+01,\n",
       "       7.968000e+01, 6.617000e+01, 3.375000e+01, 1.320000e+00,\n",
       "       1.270000e+00, 3.630000e+01, 3.839000e+01, 2.000000e+02,\n",
       "       1.450000e+01, 1.301000e+01, 1.104300e+02, 1.310000e+00,\n",
       "       7.800000e-01, 4.533000e+01, 7.080000e+00, 1.166900e+02,\n",
       "       1.104500e+02, 2.075000e+01, 5.224000e+01, 9.293000e+01,\n",
       "       6.590000e+00, 1.022400e+02, 5.522140e+03, 7.427970e+03,\n",
       "       1.829840e+03, 1.039730e+03, 3.662700e+02, 3.450300e+02,\n",
       "       2.653950e+03, 2.325700e+02, 5.060000e+00, 6.086600e+02,\n",
       "       2.990000e+00, 8.000000e-01, 1.862000e+01, 4.475600e+02,\n",
       "       8.000000e+01, 3.380000e+00, 9.000000e+01, 5.150000e+00,\n",
       "       3.615900e+02, 1.527800e+02, 3.222000e+01, 1.674000e+01,\n",
       "       1.607000e+01, 6.300000e-01, 2.187200e+02, 6.200000e-01,\n",
       "       3.595000e+01, 5.942570e+03, 3.740000e+00, 8.000000e+00,\n",
       "       6.820500e+02, 8.219000e+02, 4.727700e+02, 9.818000e+01,\n",
       "       4.880000e+00, 4.965000e+01, 4.798000e+01, 2.387800e+02,\n",
       "       4.119200e+02, 1.740000e+00, 2.300000e+00, 1.050000e+00,\n",
       "       5.995000e+02, 3.390200e+02, 2.830200e+02, 4.959800e+02,\n",
       "       1.531300e+02, 7.920000e+01, 1.205800e+02, 3.949320e+03,\n",
       "       2.118740e+03, 1.500000e+00, 3.305000e+01, 1.185000e+01,\n",
       "       1.622000e+02, 1.831600e+02, 4.649000e+02, 2.047000e+01,\n",
       "       1.770400e+02, 1.553000e+01, 2.355400e+02, 3.160000e+01,\n",
       "       1.862100e+02, 7.021000e+01, 3.020400e+02, 6.972000e+01,\n",
       "       2.597900e+02, 2.928000e+01, 2.488700e+02, 3.053000e+01,\n",
       "       2.657000e+02, 2.256000e+01, 1.817500e+02, 4.205000e+01,\n",
       "       2.760800e+02, 2.600000e+01, 2.332500e+02, 1.115000e+01,\n",
       "       2.080000e+01, 4.251400e+02, 2.500000e+01, 4.161060e+03,\n",
       "       2.327000e+01, 1.995000e+01, 6.420000e+00, 9.070000e+02,\n",
       "       2.185040e+03, 6.060000e+02, 5.500000e+00, 3.970000e+01,\n",
       "       1.159000e+01, 6.411000e+01, 1.475000e+01, 2.627300e+02,\n",
       "       8.200000e-01, 4.040000e+00, 1.455000e+01, 5.877180e+03,\n",
       "       8.286220e+03, 3.317000e+01, 5.175100e+02, 4.240600e+02,\n",
       "       5.493400e+02, 4.046000e+01, 9.714000e+01, 1.830000e+02,\n",
       "       3.261000e+02, 1.665000e+01, 6.000000e+00, 1.038750e+03,\n",
       "       7.450000e+00, 2.726000e+01, 1.488000e+01, 1.982000e+01,\n",
       "       1.676000e+01, 5.990000e+00, 4.900600e+02, 2.721000e+01,\n",
       "       5.302500e+02, 1.149980e+03, 3.200000e-01, 5.600000e-01,\n",
       "       2.633000e+01, 8.499300e+02, 4.000000e-01, 7.600000e+00,\n",
       "       9.871400e+02, 3.200000e+00, 2.050000e+01, 2.053000e+01,\n",
       "       2.868000e+01, 1.158650e+04, 1.783646e+04, 1.100440e+03,\n",
       "       6.000000e-02, 2.246900e+02])"
      ]
     },
     "execution_count": 142,
     "metadata": {},
     "output_type": "execute_result"
    }
   ],
   "source": [
    "df[df['Quantity']<0]['UnitPrice'].unique()"
   ]
  },
  {
   "cell_type": "code",
   "execution_count": 143,
   "metadata": {},
   "outputs": [
    {
     "data": {
      "text/html": [
       "<div>\n",
       "<style scoped>\n",
       "    .dataframe tbody tr th:only-of-type {\n",
       "        vertical-align: middle;\n",
       "    }\n",
       "\n",
       "    .dataframe tbody tr th {\n",
       "        vertical-align: top;\n",
       "    }\n",
       "\n",
       "    .dataframe thead th {\n",
       "        text-align: right;\n",
       "    }\n",
       "</style>\n",
       "<table border=\"1\" class=\"dataframe\">\n",
       "  <thead>\n",
       "    <tr style=\"text-align: right;\">\n",
       "      <th></th>\n",
       "      <th>InvoiceNo</th>\n",
       "      <th>StockCode</th>\n",
       "      <th>Description</th>\n",
       "      <th>Quantity</th>\n",
       "      <th>InvoiceDate</th>\n",
       "      <th>UnitPrice</th>\n",
       "      <th>CustomerID</th>\n",
       "      <th>Country</th>\n",
       "      <th>price</th>\n",
       "    </tr>\n",
       "  </thead>\n",
       "  <tbody>\n",
       "    <tr>\n",
       "      <th>141</th>\n",
       "      <td>C536379</td>\n",
       "      <td>D</td>\n",
       "      <td>Discount</td>\n",
       "      <td>-1</td>\n",
       "      <td>2010-12-01 09:41:00</td>\n",
       "      <td>27.50</td>\n",
       "      <td>14527.0</td>\n",
       "      <td>United Kingdom</td>\n",
       "      <td>-27.50</td>\n",
       "    </tr>\n",
       "    <tr>\n",
       "      <th>154</th>\n",
       "      <td>C536383</td>\n",
       "      <td>35004C</td>\n",
       "      <td>SET OF 3 COLOURED  FLYING DUCKS</td>\n",
       "      <td>-1</td>\n",
       "      <td>2010-12-01 09:49:00</td>\n",
       "      <td>4.65</td>\n",
       "      <td>15311.0</td>\n",
       "      <td>United Kingdom</td>\n",
       "      <td>-4.65</td>\n",
       "    </tr>\n",
       "    <tr>\n",
       "      <th>235</th>\n",
       "      <td>C536391</td>\n",
       "      <td>22556</td>\n",
       "      <td>PLASTERS IN TIN CIRCUS PARADE</td>\n",
       "      <td>-12</td>\n",
       "      <td>2010-12-01 10:24:00</td>\n",
       "      <td>1.65</td>\n",
       "      <td>17548.0</td>\n",
       "      <td>United Kingdom</td>\n",
       "      <td>-19.80</td>\n",
       "    </tr>\n",
       "    <tr>\n",
       "      <th>236</th>\n",
       "      <td>C536391</td>\n",
       "      <td>21984</td>\n",
       "      <td>PACK OF 12 PINK PAISLEY TISSUES</td>\n",
       "      <td>-24</td>\n",
       "      <td>2010-12-01 10:24:00</td>\n",
       "      <td>0.29</td>\n",
       "      <td>17548.0</td>\n",
       "      <td>United Kingdom</td>\n",
       "      <td>-6.96</td>\n",
       "    </tr>\n",
       "    <tr>\n",
       "      <th>237</th>\n",
       "      <td>C536391</td>\n",
       "      <td>21983</td>\n",
       "      <td>PACK OF 12 BLUE PAISLEY TISSUES</td>\n",
       "      <td>-24</td>\n",
       "      <td>2010-12-01 10:24:00</td>\n",
       "      <td>0.29</td>\n",
       "      <td>17548.0</td>\n",
       "      <td>United Kingdom</td>\n",
       "      <td>-6.96</td>\n",
       "    </tr>\n",
       "    <tr>\n",
       "      <th>...</th>\n",
       "      <td>...</td>\n",
       "      <td>...</td>\n",
       "      <td>...</td>\n",
       "      <td>...</td>\n",
       "      <td>...</td>\n",
       "      <td>...</td>\n",
       "      <td>...</td>\n",
       "      <td>...</td>\n",
       "      <td>...</td>\n",
       "    </tr>\n",
       "    <tr>\n",
       "      <th>540449</th>\n",
       "      <td>C581490</td>\n",
       "      <td>23144</td>\n",
       "      <td>ZINC T-LIGHT HOLDER STARS SMALL</td>\n",
       "      <td>-11</td>\n",
       "      <td>2011-12-09 09:57:00</td>\n",
       "      <td>0.83</td>\n",
       "      <td>14397.0</td>\n",
       "      <td>United Kingdom</td>\n",
       "      <td>-9.13</td>\n",
       "    </tr>\n",
       "    <tr>\n",
       "      <th>541541</th>\n",
       "      <td>C581499</td>\n",
       "      <td>M</td>\n",
       "      <td>Manual</td>\n",
       "      <td>-1</td>\n",
       "      <td>2011-12-09 10:28:00</td>\n",
       "      <td>224.69</td>\n",
       "      <td>15498.0</td>\n",
       "      <td>United Kingdom</td>\n",
       "      <td>-224.69</td>\n",
       "    </tr>\n",
       "    <tr>\n",
       "      <th>541715</th>\n",
       "      <td>C581568</td>\n",
       "      <td>21258</td>\n",
       "      <td>VICTORIAN SEWING BOX LARGE</td>\n",
       "      <td>-5</td>\n",
       "      <td>2011-12-09 11:57:00</td>\n",
       "      <td>10.95</td>\n",
       "      <td>15311.0</td>\n",
       "      <td>United Kingdom</td>\n",
       "      <td>-54.75</td>\n",
       "    </tr>\n",
       "    <tr>\n",
       "      <th>541716</th>\n",
       "      <td>C581569</td>\n",
       "      <td>84978</td>\n",
       "      <td>HANGING HEART JAR T-LIGHT HOLDER</td>\n",
       "      <td>-1</td>\n",
       "      <td>2011-12-09 11:58:00</td>\n",
       "      <td>1.25</td>\n",
       "      <td>17315.0</td>\n",
       "      <td>United Kingdom</td>\n",
       "      <td>-1.25</td>\n",
       "    </tr>\n",
       "    <tr>\n",
       "      <th>541717</th>\n",
       "      <td>C581569</td>\n",
       "      <td>20979</td>\n",
       "      <td>36 PENCILS TUBE RED RETROSPOT</td>\n",
       "      <td>-5</td>\n",
       "      <td>2011-12-09 11:58:00</td>\n",
       "      <td>1.25</td>\n",
       "      <td>17315.0</td>\n",
       "      <td>United Kingdom</td>\n",
       "      <td>-6.25</td>\n",
       "    </tr>\n",
       "  </tbody>\n",
       "</table>\n",
       "<p>10624 rows × 9 columns</p>\n",
       "</div>"
      ],
      "text/plain": [
       "       InvoiceNo StockCode                       Description  Quantity  \\\n",
       "141      C536379         D                          Discount        -1   \n",
       "154      C536383    35004C   SET OF 3 COLOURED  FLYING DUCKS        -1   \n",
       "235      C536391     22556    PLASTERS IN TIN CIRCUS PARADE        -12   \n",
       "236      C536391     21984  PACK OF 12 PINK PAISLEY TISSUES        -24   \n",
       "237      C536391     21983  PACK OF 12 BLUE PAISLEY TISSUES        -24   \n",
       "...          ...       ...                               ...       ...   \n",
       "540449   C581490     23144   ZINC T-LIGHT HOLDER STARS SMALL       -11   \n",
       "541541   C581499         M                            Manual        -1   \n",
       "541715   C581568     21258        VICTORIAN SEWING BOX LARGE        -5   \n",
       "541716   C581569     84978  HANGING HEART JAR T-LIGHT HOLDER        -1   \n",
       "541717   C581569     20979     36 PENCILS TUBE RED RETROSPOT        -5   \n",
       "\n",
       "               InvoiceDate  UnitPrice  CustomerID         Country   price  \n",
       "141    2010-12-01 09:41:00      27.50     14527.0  United Kingdom  -27.50  \n",
       "154    2010-12-01 09:49:00       4.65     15311.0  United Kingdom   -4.65  \n",
       "235    2010-12-01 10:24:00       1.65     17548.0  United Kingdom  -19.80  \n",
       "236    2010-12-01 10:24:00       0.29     17548.0  United Kingdom   -6.96  \n",
       "237    2010-12-01 10:24:00       0.29     17548.0  United Kingdom   -6.96  \n",
       "...                    ...        ...         ...             ...     ...  \n",
       "540449 2011-12-09 09:57:00       0.83     14397.0  United Kingdom   -9.13  \n",
       "541541 2011-12-09 10:28:00     224.69     15498.0  United Kingdom -224.69  \n",
       "541715 2011-12-09 11:57:00      10.95     15311.0  United Kingdom  -54.75  \n",
       "541716 2011-12-09 11:58:00       1.25     17315.0  United Kingdom   -1.25  \n",
       "541717 2011-12-09 11:58:00       1.25     17315.0  United Kingdom   -6.25  \n",
       "\n",
       "[10624 rows x 9 columns]"
      ]
     },
     "execution_count": 143,
     "metadata": {},
     "output_type": "execute_result"
    }
   ],
   "source": [
    "df[df['Quantity']<0]"
   ]
  },
  {
   "cell_type": "code",
   "execution_count": 144,
   "metadata": {},
   "outputs": [
    {
     "data": {
      "text/html": [
       "<div>\n",
       "<style scoped>\n",
       "    .dataframe tbody tr th:only-of-type {\n",
       "        vertical-align: middle;\n",
       "    }\n",
       "\n",
       "    .dataframe tbody tr th {\n",
       "        vertical-align: top;\n",
       "    }\n",
       "\n",
       "    .dataframe thead th {\n",
       "        text-align: right;\n",
       "    }\n",
       "</style>\n",
       "<table border=\"1\" class=\"dataframe\">\n",
       "  <thead>\n",
       "    <tr style=\"text-align: right;\">\n",
       "      <th></th>\n",
       "      <th>InvoiceNo</th>\n",
       "      <th>StockCode</th>\n",
       "      <th>Description</th>\n",
       "      <th>Quantity</th>\n",
       "      <th>InvoiceDate</th>\n",
       "      <th>UnitPrice</th>\n",
       "      <th>CustomerID</th>\n",
       "      <th>Country</th>\n",
       "      <th>price</th>\n",
       "    </tr>\n",
       "  </thead>\n",
       "  <tbody>\n",
       "    <tr>\n",
       "      <th>299983</th>\n",
       "      <td>A563186</td>\n",
       "      <td>B</td>\n",
       "      <td>Adjust bad debt</td>\n",
       "      <td>1</td>\n",
       "      <td>2011-08-12 14:51:00</td>\n",
       "      <td>-11062.06</td>\n",
       "      <td>NaN</td>\n",
       "      <td>United Kingdom</td>\n",
       "      <td>-11062.06</td>\n",
       "    </tr>\n",
       "    <tr>\n",
       "      <th>299984</th>\n",
       "      <td>A563187</td>\n",
       "      <td>B</td>\n",
       "      <td>Adjust bad debt</td>\n",
       "      <td>1</td>\n",
       "      <td>2011-08-12 14:52:00</td>\n",
       "      <td>-11062.06</td>\n",
       "      <td>NaN</td>\n",
       "      <td>United Kingdom</td>\n",
       "      <td>-11062.06</td>\n",
       "    </tr>\n",
       "  </tbody>\n",
       "</table>\n",
       "</div>"
      ],
      "text/plain": [
       "       InvoiceNo StockCode      Description  Quantity         InvoiceDate  \\\n",
       "299983   A563186         B  Adjust bad debt         1 2011-08-12 14:51:00   \n",
       "299984   A563187         B  Adjust bad debt         1 2011-08-12 14:52:00   \n",
       "\n",
       "        UnitPrice  CustomerID         Country     price  \n",
       "299983  -11062.06         NaN  United Kingdom -11062.06  \n",
       "299984  -11062.06         NaN  United Kingdom -11062.06  "
      ]
     },
     "execution_count": 144,
     "metadata": {},
     "output_type": "execute_result"
    }
   ],
   "source": [
    "df[df['UnitPrice']<0]"
   ]
  },
  {
   "cell_type": "code",
   "execution_count": 145,
   "metadata": {},
   "outputs": [
    {
     "data": {
      "text/plain": [
       "-135080"
      ]
     },
     "execution_count": 145,
     "metadata": {},
     "output_type": "execute_result"
    }
   ],
   "source": [
    "drop_df = df.dropna(subset = ['CustomerID'])\n",
    "len(drop_df) - len(df)\n"
   ]
  },
  {
   "cell_type": "code",
   "execution_count": 146,
   "metadata": {},
   "outputs": [
    {
     "data": {
      "text/html": [
       "<div>\n",
       "<style scoped>\n",
       "    .dataframe tbody tr th:only-of-type {\n",
       "        vertical-align: middle;\n",
       "    }\n",
       "\n",
       "    .dataframe tbody tr th {\n",
       "        vertical-align: top;\n",
       "    }\n",
       "\n",
       "    .dataframe thead th {\n",
       "        text-align: right;\n",
       "    }\n",
       "</style>\n",
       "<table border=\"1\" class=\"dataframe\">\n",
       "  <thead>\n",
       "    <tr style=\"text-align: right;\">\n",
       "      <th></th>\n",
       "      <th>InvoiceNo</th>\n",
       "      <th>StockCode</th>\n",
       "      <th>Description</th>\n",
       "      <th>Quantity</th>\n",
       "      <th>InvoiceDate</th>\n",
       "      <th>UnitPrice</th>\n",
       "      <th>CustomerID</th>\n",
       "      <th>Country</th>\n",
       "      <th>price</th>\n",
       "    </tr>\n",
       "  </thead>\n",
       "  <tbody>\n",
       "    <tr>\n",
       "      <th>622</th>\n",
       "      <td>536414</td>\n",
       "      <td>22139</td>\n",
       "      <td>NaN</td>\n",
       "      <td>56</td>\n",
       "      <td>2010-12-01 11:52:00</td>\n",
       "      <td>0.00</td>\n",
       "      <td>NaN</td>\n",
       "      <td>United Kingdom</td>\n",
       "      <td>0.00</td>\n",
       "    </tr>\n",
       "    <tr>\n",
       "      <th>1443</th>\n",
       "      <td>536544</td>\n",
       "      <td>21773</td>\n",
       "      <td>DECORATIVE ROSE BATHROOM BOTTLE</td>\n",
       "      <td>1</td>\n",
       "      <td>2010-12-01 14:32:00</td>\n",
       "      <td>2.51</td>\n",
       "      <td>NaN</td>\n",
       "      <td>United Kingdom</td>\n",
       "      <td>2.51</td>\n",
       "    </tr>\n",
       "    <tr>\n",
       "      <th>1444</th>\n",
       "      <td>536544</td>\n",
       "      <td>21774</td>\n",
       "      <td>DECORATIVE CATS BATHROOM BOTTLE</td>\n",
       "      <td>2</td>\n",
       "      <td>2010-12-01 14:32:00</td>\n",
       "      <td>2.51</td>\n",
       "      <td>NaN</td>\n",
       "      <td>United Kingdom</td>\n",
       "      <td>5.02</td>\n",
       "    </tr>\n",
       "    <tr>\n",
       "      <th>1445</th>\n",
       "      <td>536544</td>\n",
       "      <td>21786</td>\n",
       "      <td>POLKADOT RAIN HAT</td>\n",
       "      <td>4</td>\n",
       "      <td>2010-12-01 14:32:00</td>\n",
       "      <td>0.85</td>\n",
       "      <td>NaN</td>\n",
       "      <td>United Kingdom</td>\n",
       "      <td>3.40</td>\n",
       "    </tr>\n",
       "    <tr>\n",
       "      <th>1446</th>\n",
       "      <td>536544</td>\n",
       "      <td>21787</td>\n",
       "      <td>RAIN PONCHO RETROSPOT</td>\n",
       "      <td>2</td>\n",
       "      <td>2010-12-01 14:32:00</td>\n",
       "      <td>1.66</td>\n",
       "      <td>NaN</td>\n",
       "      <td>United Kingdom</td>\n",
       "      <td>3.32</td>\n",
       "    </tr>\n",
       "    <tr>\n",
       "      <th>...</th>\n",
       "      <td>...</td>\n",
       "      <td>...</td>\n",
       "      <td>...</td>\n",
       "      <td>...</td>\n",
       "      <td>...</td>\n",
       "      <td>...</td>\n",
       "      <td>...</td>\n",
       "      <td>...</td>\n",
       "      <td>...</td>\n",
       "    </tr>\n",
       "    <tr>\n",
       "      <th>541536</th>\n",
       "      <td>581498</td>\n",
       "      <td>85099B</td>\n",
       "      <td>JUMBO BAG RED RETROSPOT</td>\n",
       "      <td>5</td>\n",
       "      <td>2011-12-09 10:26:00</td>\n",
       "      <td>4.13</td>\n",
       "      <td>NaN</td>\n",
       "      <td>United Kingdom</td>\n",
       "      <td>20.65</td>\n",
       "    </tr>\n",
       "    <tr>\n",
       "      <th>541537</th>\n",
       "      <td>581498</td>\n",
       "      <td>85099C</td>\n",
       "      <td>JUMBO  BAG BAROQUE BLACK WHITE</td>\n",
       "      <td>4</td>\n",
       "      <td>2011-12-09 10:26:00</td>\n",
       "      <td>4.13</td>\n",
       "      <td>NaN</td>\n",
       "      <td>United Kingdom</td>\n",
       "      <td>16.52</td>\n",
       "    </tr>\n",
       "    <tr>\n",
       "      <th>541538</th>\n",
       "      <td>581498</td>\n",
       "      <td>85150</td>\n",
       "      <td>LADIES &amp; GENTLEMEN METAL SIGN</td>\n",
       "      <td>1</td>\n",
       "      <td>2011-12-09 10:26:00</td>\n",
       "      <td>4.96</td>\n",
       "      <td>NaN</td>\n",
       "      <td>United Kingdom</td>\n",
       "      <td>4.96</td>\n",
       "    </tr>\n",
       "    <tr>\n",
       "      <th>541539</th>\n",
       "      <td>581498</td>\n",
       "      <td>85174</td>\n",
       "      <td>S/4 CACTI CANDLES</td>\n",
       "      <td>1</td>\n",
       "      <td>2011-12-09 10:26:00</td>\n",
       "      <td>10.79</td>\n",
       "      <td>NaN</td>\n",
       "      <td>United Kingdom</td>\n",
       "      <td>10.79</td>\n",
       "    </tr>\n",
       "    <tr>\n",
       "      <th>541540</th>\n",
       "      <td>581498</td>\n",
       "      <td>DOT</td>\n",
       "      <td>DOTCOM POSTAGE</td>\n",
       "      <td>1</td>\n",
       "      <td>2011-12-09 10:26:00</td>\n",
       "      <td>1714.17</td>\n",
       "      <td>NaN</td>\n",
       "      <td>United Kingdom</td>\n",
       "      <td>1714.17</td>\n",
       "    </tr>\n",
       "  </tbody>\n",
       "</table>\n",
       "<p>135080 rows × 9 columns</p>\n",
       "</div>"
      ],
      "text/plain": [
       "       InvoiceNo StockCode                      Description  Quantity  \\\n",
       "622       536414     22139                              NaN        56   \n",
       "1443      536544     21773  DECORATIVE ROSE BATHROOM BOTTLE         1   \n",
       "1444      536544     21774  DECORATIVE CATS BATHROOM BOTTLE         2   \n",
       "1445      536544     21786               POLKADOT RAIN HAT          4   \n",
       "1446      536544     21787            RAIN PONCHO RETROSPOT         2   \n",
       "...          ...       ...                              ...       ...   \n",
       "541536    581498    85099B          JUMBO BAG RED RETROSPOT         5   \n",
       "541537    581498    85099C   JUMBO  BAG BAROQUE BLACK WHITE         4   \n",
       "541538    581498     85150    LADIES & GENTLEMEN METAL SIGN         1   \n",
       "541539    581498     85174                S/4 CACTI CANDLES         1   \n",
       "541540    581498       DOT                   DOTCOM POSTAGE         1   \n",
       "\n",
       "               InvoiceDate  UnitPrice  CustomerID         Country    price  \n",
       "622    2010-12-01 11:52:00       0.00         NaN  United Kingdom     0.00  \n",
       "1443   2010-12-01 14:32:00       2.51         NaN  United Kingdom     2.51  \n",
       "1444   2010-12-01 14:32:00       2.51         NaN  United Kingdom     5.02  \n",
       "1445   2010-12-01 14:32:00       0.85         NaN  United Kingdom     3.40  \n",
       "1446   2010-12-01 14:32:00       1.66         NaN  United Kingdom     3.32  \n",
       "...                    ...        ...         ...             ...      ...  \n",
       "541536 2011-12-09 10:26:00       4.13         NaN  United Kingdom    20.65  \n",
       "541537 2011-12-09 10:26:00       4.13         NaN  United Kingdom    16.52  \n",
       "541538 2011-12-09 10:26:00       4.96         NaN  United Kingdom     4.96  \n",
       "541539 2011-12-09 10:26:00      10.79         NaN  United Kingdom    10.79  \n",
       "541540 2011-12-09 10:26:00    1714.17         NaN  United Kingdom  1714.17  \n",
       "\n",
       "[135080 rows x 9 columns]"
      ]
     },
     "execution_count": 146,
     "metadata": {},
     "output_type": "execute_result"
    }
   ],
   "source": [
    "df[df['CustomerID'].isnull()==True]"
   ]
  },
  {
   "cell_type": "code",
   "execution_count": 147,
   "metadata": {},
   "outputs": [
    {
     "data": {
      "text/plain": [
       "135080"
      ]
     },
     "execution_count": 147,
     "metadata": {},
     "output_type": "execute_result"
    }
   ],
   "source": [
    "df['CustomerID'].isnull().sum()"
   ]
  },
  {
   "cell_type": "code",
   "execution_count": 148,
   "metadata": {},
   "outputs": [
    {
     "data": {
      "text/plain": [
       "40"
      ]
     },
     "execution_count": 148,
     "metadata": {},
     "output_type": "execute_result"
    }
   ],
   "source": [
    "len(drop_df[drop_df['UnitPrice']==0])"
   ]
  },
  {
   "cell_type": "code",
   "execution_count": 149,
   "metadata": {},
   "outputs": [],
   "source": [
    "df = drop_df[(drop_df['Quantity']>=0)&(drop_df['UnitPrice']>=0)]"
   ]
  },
  {
   "cell_type": "code",
   "execution_count": 150,
   "metadata": {},
   "outputs": [
    {
     "data": {
      "text/plain": [
       "40"
      ]
     },
     "execution_count": 150,
     "metadata": {},
     "output_type": "execute_result"
    }
   ],
   "source": [
    "len(df[df['UnitPrice']==0])"
   ]
  },
  {
   "cell_type": "code",
   "execution_count": 151,
   "metadata": {},
   "outputs": [
    {
     "data": {
      "text/plain": [
       "397924"
      ]
     },
     "execution_count": 151,
     "metadata": {},
     "output_type": "execute_result"
    }
   ],
   "source": [
    "len(df)"
   ]
  },
  {
   "cell_type": "code",
   "execution_count": null,
   "metadata": {},
   "outputs": [],
   "source": []
  },
  {
   "cell_type": "code",
   "execution_count": null,
   "metadata": {},
   "outputs": [],
   "source": []
  },
  {
   "cell_type": "code",
   "execution_count": null,
   "metadata": {},
   "outputs": [],
   "source": []
  },
  {
   "cell_type": "code",
   "execution_count": null,
   "metadata": {},
   "outputs": [],
   "source": []
  },
  {
   "cell_type": "code",
   "execution_count": null,
   "metadata": {},
   "outputs": [],
   "source": []
  },
  {
   "cell_type": "code",
   "execution_count": null,
   "metadata": {},
   "outputs": [],
   "source": []
  },
  {
   "cell_type": "code",
   "execution_count": 152,
   "metadata": {},
   "outputs": [
    {
     "data": {
      "text/plain": [
       "array(['BICYCLE SAFTEY WALL ART', 'WALL ART BICYCLE SAFTEY ',\n",
       "       'WALL ART BICYCLE SAFETY'], dtype=object)"
      ]
     },
     "execution_count": 152,
     "metadata": {},
     "output_type": "execute_result"
    }
   ],
   "source": [
    "cat_des_df = df.groupby([\"StockCode\",\"Description\"]).count().reset_index()\n",
    "df[df['StockCode'] == cat_des_df.StockCode.value_counts()[cat_des_df.StockCode.value_counts()>1]\n",
    "      .reset_index()['index'][4]]['Description'].unique()"
   ]
  },
  {
   "cell_type": "markdown",
   "metadata": {},
   "source": [
    "9. What can you say about the uniqueness of the Description per StockCode?\n",
    "10. Run this code to make a table of unique Description per StockCode:"
   ]
  },
  {
   "cell_type": "code",
   "execution_count": 153,
   "metadata": {},
   "outputs": [
    {
     "data": {
      "text/html": [
       "<div>\n",
       "<style scoped>\n",
       "    .dataframe tbody tr th:only-of-type {\n",
       "        vertical-align: middle;\n",
       "    }\n",
       "\n",
       "    .dataframe tbody tr th {\n",
       "        vertical-align: top;\n",
       "    }\n",
       "\n",
       "    .dataframe thead th {\n",
       "        text-align: right;\n",
       "    }\n",
       "</style>\n",
       "<table border=\"1\" class=\"dataframe\">\n",
       "  <thead>\n",
       "    <tr style=\"text-align: right;\">\n",
       "      <th></th>\n",
       "      <th>StockCode</th>\n",
       "      <th>Description</th>\n",
       "    </tr>\n",
       "  </thead>\n",
       "  <tbody>\n",
       "    <tr>\n",
       "      <th>0</th>\n",
       "      <td>10002</td>\n",
       "      <td>INFLATABLE POLITICAL GLOBE</td>\n",
       "    </tr>\n",
       "    <tr>\n",
       "      <th>1</th>\n",
       "      <td>10080</td>\n",
       "      <td>GROOVY CACTUS INFLATABLE</td>\n",
       "    </tr>\n",
       "    <tr>\n",
       "      <th>2</th>\n",
       "      <td>10120</td>\n",
       "      <td>DOGGY RUBBER</td>\n",
       "    </tr>\n",
       "    <tr>\n",
       "      <th>3</th>\n",
       "      <td>10125</td>\n",
       "      <td>MINI FUNKY DESIGN TAPES</td>\n",
       "    </tr>\n",
       "    <tr>\n",
       "      <th>4</th>\n",
       "      <td>10133</td>\n",
       "      <td>COLOURING PENCILS BROWN TUBE</td>\n",
       "    </tr>\n",
       "    <tr>\n",
       "      <th>...</th>\n",
       "      <td>...</td>\n",
       "      <td>...</td>\n",
       "    </tr>\n",
       "    <tr>\n",
       "      <th>3661</th>\n",
       "      <td>C2</td>\n",
       "      <td>CARRIAGE</td>\n",
       "    </tr>\n",
       "    <tr>\n",
       "      <th>3662</th>\n",
       "      <td>DOT</td>\n",
       "      <td>DOTCOM POSTAGE</td>\n",
       "    </tr>\n",
       "    <tr>\n",
       "      <th>3663</th>\n",
       "      <td>M</td>\n",
       "      <td>Manual</td>\n",
       "    </tr>\n",
       "    <tr>\n",
       "      <th>3664</th>\n",
       "      <td>PADS</td>\n",
       "      <td>PADS TO MATCH ALL CUSHIONS</td>\n",
       "    </tr>\n",
       "    <tr>\n",
       "      <th>3665</th>\n",
       "      <td>POST</td>\n",
       "      <td>POSTAGE</td>\n",
       "    </tr>\n",
       "  </tbody>\n",
       "</table>\n",
       "<p>3666 rows × 2 columns</p>\n",
       "</div>"
      ],
      "text/plain": [
       "     StockCode                   Description\n",
       "0        10002   INFLATABLE POLITICAL GLOBE \n",
       "1        10080      GROOVY CACTUS INFLATABLE\n",
       "2        10120                  DOGGY RUBBER\n",
       "3        10125       MINI FUNKY DESIGN TAPES\n",
       "4        10133  COLOURING PENCILS BROWN TUBE\n",
       "...        ...                           ...\n",
       "3661        C2                      CARRIAGE\n",
       "3662       DOT                DOTCOM POSTAGE\n",
       "3663         M                        Manual\n",
       "3664      PADS    PADS TO MATCH ALL CUSHIONS\n",
       "3665      POST                       POSTAGE\n",
       "\n",
       "[3666 rows x 2 columns]"
      ]
     },
     "execution_count": 153,
     "metadata": {},
     "output_type": "execute_result"
    }
   ],
   "source": [
    "unique_desc = df[[\"StockCode\", \"Description\"]].groupby(by=[\"StockCode\"]).\\\n",
    "                apply(pd.DataFrame.mode).reset_index(drop=True)\n",
    "\n",
    "unique_desc"
   ]
  },
  {
   "cell_type": "markdown",
   "metadata": {},
   "source": [
    "11. We will merge `unique_desc` with `df` to get the value of other columns using an SQL wrapper `pandassql`. To install, run:"
   ]
  },
  {
   "cell_type": "code",
   "execution_count": 154,
   "metadata": {},
   "outputs": [
    {
     "name": "stdout",
     "output_type": "stream",
     "text": [
      "Requirement already satisfied: pandasql in c:\\users\\user\\anaconda3\\lib\\site-packages (0.7.3)\n",
      "Requirement already satisfied: numpy in c:\\users\\user\\anaconda3\\lib\\site-packages (from pandasql) (1.18.5)\n",
      "Requirement already satisfied: pandas in c:\\users\\user\\anaconda3\\lib\\site-packages (from pandasql) (1.0.5)\n",
      "Requirement already satisfied: sqlalchemy in c:\\users\\user\\anaconda3\\lib\\site-packages (from pandasql) (1.3.18)\n",
      "Requirement already satisfied: python-dateutil>=2.6.1 in c:\\users\\user\\anaconda3\\lib\\site-packages (from pandas->pandasql) (2.8.1)\n",
      "Requirement already satisfied: pytz>=2017.2 in c:\\users\\user\\anaconda3\\lib\\site-packages (from pandas->pandasql) (2020.1)\n",
      "Requirement already satisfied: six>=1.5 in c:\\users\\user\\anaconda3\\lib\\site-packages (from python-dateutil>=2.6.1->pandas->pandasql) (1.15.0)\n"
     ]
    }
   ],
   "source": [
    "!pip install pandasql"
   ]
  },
  {
   "cell_type": "markdown",
   "metadata": {},
   "source": [
    "12. Import the associated libraries and run the query:"
   ]
  },
  {
   "cell_type": "code",
   "execution_count": 155,
   "metadata": {},
   "outputs": [],
   "source": [
    "from pandasql import sqldf\n",
    "\n",
    "pysqldf = lambda q: sqldf(q, globals())\n",
    "new_df = pd.DataFrame(pysqldf(\n",
    "    \"\"\"select df.InvoiceNo, \n",
    "        df.StockCode, \n",
    "        un.Description, \n",
    "        df.Quantity, \n",
    "        df.InvoiceDate,\n",
    "        df.UnitPrice, \n",
    "        df.CustomerID, \n",
    "        df.Country \n",
    "    from df as df \n",
    "        INNER JOIN unique_desc as un on df.StockCode = un.StockCode\n",
    "        \"\"\"))"
   ]
  },
  {
   "cell_type": "markdown",
   "metadata": {},
   "source": [
    "13. What is the dimensions of the `new_df`?\n",
    "14. Convert `InvoiceDate` column to datetime.\n",
    "15. Make a new column `Amount` by multiplying Quantity and UnitPrice.\n",
    "16. Convert `CustomerID` to integer.\n",
    "17. Make a barplot of the Amount of Sales per Country (don't forget the titles and labels).\n",
    "18. How many percent is from UK and oustide of UK.\n",
    "19. Who are the top 10 customers and what is their contribution (%) in sales and in quantity?\n",
    "20. What are the top 10 products and what is their contribution (%) in sales and in quantity?"
   ]
  },
  {
   "cell_type": "code",
   "execution_count": 156,
   "metadata": {},
   "outputs": [
    {
     "data": {
      "text/plain": [
       "397924"
      ]
     },
     "execution_count": 156,
     "metadata": {},
     "output_type": "execute_result"
    }
   ],
   "source": [
    "len(new_df)"
   ]
  },
  {
   "cell_type": "code",
   "execution_count": 157,
   "metadata": {},
   "outputs": [],
   "source": [
    "new_df['InvoiceDate'] = pd.to_datetime(new_df['InvoiceDate'])"
   ]
  },
  {
   "cell_type": "code",
   "execution_count": 158,
   "metadata": {},
   "outputs": [
    {
     "data": {
      "text/plain": [
       "dtype('<M8[ns]')"
      ]
     },
     "execution_count": 158,
     "metadata": {},
     "output_type": "execute_result"
    }
   ],
   "source": [
    "new_df['InvoiceDate'].dtype"
   ]
  },
  {
   "cell_type": "code",
   "execution_count": 159,
   "metadata": {},
   "outputs": [
    {
     "data": {
      "text/plain": [
       "InvoiceNo               int64\n",
       "StockCode              object\n",
       "Description            object\n",
       "Quantity                int64\n",
       "InvoiceDate    datetime64[ns]\n",
       "UnitPrice             float64\n",
       "CustomerID            float64\n",
       "Country                object\n",
       "dtype: object"
      ]
     },
     "execution_count": 159,
     "metadata": {},
     "output_type": "execute_result"
    }
   ],
   "source": [
    "new_df.dtypes"
   ]
  },
  {
   "cell_type": "code",
   "execution_count": 160,
   "metadata": {},
   "outputs": [],
   "source": [
    "new_df['Amount'] = new_df['Quantity']*new_df['UnitPrice']"
   ]
  },
  {
   "cell_type": "code",
   "execution_count": 161,
   "metadata": {},
   "outputs": [
    {
     "data": {
      "text/plain": [
       "Country\n",
       "Australia                 1185\n",
       "Austria                    398\n",
       "Bahrain                     17\n",
       "Belgium                   2031\n",
       "Brazil                      32\n",
       "Canada                     151\n",
       "Channel Islands            748\n",
       "Cyprus                     614\n",
       "Czech Republic              25\n",
       "Denmark                    380\n",
       "EIRE                      7238\n",
       "European Community          60\n",
       "Finland                    685\n",
       "France                    8342\n",
       "Germany                   9042\n",
       "Greece                     145\n",
       "Iceland                    182\n",
       "Israel                     248\n",
       "Italy                      758\n",
       "Japan                      321\n",
       "Lebanon                     45\n",
       "Lithuania                   35\n",
       "Malta                      112\n",
       "Netherlands               2363\n",
       "Norway                    1072\n",
       "Poland                     330\n",
       "Portugal                  1462\n",
       "RSA                         58\n",
       "Saudi Arabia                 9\n",
       "Singapore                  222\n",
       "Spain                     2485\n",
       "Sweden                     451\n",
       "Switzerland               1842\n",
       "USA                        179\n",
       "United Arab Emirates        68\n",
       "United Kingdom          354345\n",
       "Unspecified                244\n",
       "Name: InvoiceNo, dtype: int64"
      ]
     },
     "execution_count": 161,
     "metadata": {},
     "output_type": "execute_result"
    }
   ],
   "source": [
    "new_df.groupby('Country')['InvoiceNo'].count()"
   ]
  },
  {
   "cell_type": "code",
   "execution_count": 162,
   "metadata": {},
   "outputs": [],
   "source": [
    "import matplotlib.pyplot as plt"
   ]
  },
  {
   "cell_type": "code",
   "execution_count": 163,
   "metadata": {},
   "outputs": [
    {
     "data": {
      "text/plain": [
       "Text(0.5, 0, 'sales')"
      ]
     },
     "execution_count": 163,
     "metadata": {},
     "output_type": "execute_result"
    },
    {
     "data": {
      "image/png": "[encoded data removed]",
      "text/plain": [
       "<Figure size 432x288 with 1 Axes>"
      ]
     },
     "metadata": {
      "needs_background": "light"
     },
     "output_type": "display_data"
    }
   ],
   "source": [
    "new_df.groupby('Country')['InvoiceNo'].count().sort_values(ascending = False).head(10).plot(kind = 'barh')\n",
    "plt.title('Countries with the most sales')\n",
    "plt.xlabel('sales')"
   ]
  },
  {
   "cell_type": "code",
   "execution_count": 164,
   "metadata": {},
   "outputs": [
    {
     "data": {
      "text/plain": [
       "Text(0.5, 0, 'Amount')"
      ]
     },
     "execution_count": 164,
     "metadata": {},
     "output_type": "execute_result"
    },
    {
     "data": {
      "image/png": "[encoded data removed]",
      "text/plain": [
       "<Figure size 432x288 with 1 Axes>"
      ]
     },
     "metadata": {
      "needs_background": "light"
     },
     "output_type": "display_data"
    }
   ],
   "source": [
    "new_df.groupby('Country')['Amount'].sum().sort_values(ascending = False).head(10).plot(kind = 'barh')\n",
    "plt.title('Countries with the most sales')\n",
    "plt.xlabel('Amount')"
   ]
  },
  {
   "cell_type": "code",
   "execution_count": 165,
   "metadata": {},
   "outputs": [],
   "source": [
    "new_df['CustomerID'] = new_df['CustomerID'].astype('int64', copy=False)\n"
   ]
  },
  {
   "cell_type": "code",
   "execution_count": null,
   "metadata": {},
   "outputs": [],
   "source": []
  },
  {
   "cell_type": "code",
   "execution_count": 166,
   "metadata": {},
   "outputs": [
    {
     "data": {
      "text/plain": [
       "<pandas.core.groupby.generic.SeriesGroupBy object at 0x000002CA3E98D3D0>"
      ]
     },
     "execution_count": 166,
     "metadata": {},
     "output_type": "execute_result"
    }
   ],
   "source": [
    "new_df.groupby('Country')['InvoiceNo']"
   ]
  },
  {
   "cell_type": "code",
   "execution_count": 167,
   "metadata": {},
   "outputs": [
    {
     "data": {
      "text/plain": [
       "7308391.5540030645"
      ]
     },
     "execution_count": 167,
     "metadata": {},
     "output_type": "execute_result"
    }
   ],
   "source": [
    "new_df.groupby('Country')['Amount'].sum().loc['United Kingdom']"
   ]
  },
  {
   "cell_type": "code",
   "execution_count": 168,
   "metadata": {},
   "outputs": [
    {
     "data": {
      "text/plain": [
       "82.01163758557263"
      ]
     },
     "execution_count": 168,
     "metadata": {},
     "output_type": "execute_result"
    }
   ],
   "source": [
    "(new_df.groupby('Country')['Amount'].sum().loc['United Kingdom']/new_df.groupby('Country')['Amount'].sum().sum())*100"
   ]
  },
  {
   "cell_type": "code",
   "execution_count": 169,
   "metadata": {},
   "outputs": [
    {
     "data": {
      "text/plain": [
       "(8911407.904, 5181696)"
      ]
     },
     "execution_count": 169,
     "metadata": {},
     "output_type": "execute_result"
    }
   ],
   "source": [
    "new_df.groupby('CustomerID')['Amount'].sum().sum(), new_df.groupby('CustomerID')['Quantity'].sum().sum()\n"
   ]
  },
  {
   "cell_type": "code",
   "execution_count": 170,
   "metadata": {},
   "outputs": [
    {
     "data": {
      "text/plain": [
       "CustomerID\n",
       "14646    3.144352\n",
       "18102    2.913763\n",
       "17450    2.183166\n",
       "16446    1.890526\n",
       "14911    1.613943\n",
       "12415    1.401737\n",
       "14156    1.317184\n",
       "17511    1.021863\n",
       "16029    0.909226\n",
       "12346    0.866121\n",
       "Name: Amount, dtype: float64"
      ]
     },
     "execution_count": 170,
     "metadata": {},
     "output_type": "execute_result"
    }
   ],
   "source": [
    "(new_df.groupby('CustomerID')['Amount'].sum().sort_values(ascending = False).head(10)/new_df.groupby('CustomerID')['Amount'].sum().sum())*100"
   ]
  },
  {
   "cell_type": "code",
   "execution_count": 171,
   "metadata": {},
   "outputs": [
    {
     "data": {
      "text/plain": [
       "CustomerID\n",
       "14646    3.811320\n",
       "16446    1.563137\n",
       "14911    1.553835\n",
       "12415    1.498930\n",
       "12346    1.432253\n",
       "17450    1.350774\n",
       "17511    1.245712\n",
       "18102    1.237510\n",
       "13694    1.221839\n",
       "14298    1.125944\n",
       "Name: Quantity, dtype: float64"
      ]
     },
     "execution_count": 171,
     "metadata": {},
     "output_type": "execute_result"
    }
   ],
   "source": [
    "(new_df.groupby('CustomerID')['Quantity'].sum().sort_values(ascending = False).head(10)/new_df.groupby('CustomerID')['Quantity'].sum().sum())*100"
   ]
  },
  {
   "cell_type": "code",
   "execution_count": 172,
   "metadata": {},
   "outputs": [
    {
     "data": {
      "text/html": [
       "<div>\n",
       "<style scoped>\n",
       "    .dataframe tbody tr th:only-of-type {\n",
       "        vertical-align: middle;\n",
       "    }\n",
       "\n",
       "    .dataframe tbody tr th {\n",
       "        vertical-align: top;\n",
       "    }\n",
       "\n",
       "    .dataframe thead th {\n",
       "        text-align: right;\n",
       "    }\n",
       "</style>\n",
       "<table border=\"1\" class=\"dataframe\">\n",
       "  <thead>\n",
       "    <tr style=\"text-align: right;\">\n",
       "      <th></th>\n",
       "      <th>InvoiceNo</th>\n",
       "      <th>StockCode</th>\n",
       "      <th>Description</th>\n",
       "      <th>Quantity</th>\n",
       "      <th>InvoiceDate</th>\n",
       "      <th>UnitPrice</th>\n",
       "      <th>CustomerID</th>\n",
       "      <th>Country</th>\n",
       "      <th>Amount</th>\n",
       "    </tr>\n",
       "  </thead>\n",
       "  <tbody>\n",
       "    <tr>\n",
       "      <th>0</th>\n",
       "      <td>536365</td>\n",
       "      <td>85123A</td>\n",
       "      <td>WHITE HANGING HEART T-LIGHT HOLDER</td>\n",
       "      <td>6</td>\n",
       "      <td>2010-12-01 08:26:00</td>\n",
       "      <td>2.55</td>\n",
       "      <td>17850</td>\n",
       "      <td>United Kingdom</td>\n",
       "      <td>15.30</td>\n",
       "    </tr>\n",
       "    <tr>\n",
       "      <th>1</th>\n",
       "      <td>536365</td>\n",
       "      <td>71053</td>\n",
       "      <td>WHITE METAL LANTERN</td>\n",
       "      <td>6</td>\n",
       "      <td>2010-12-01 08:26:00</td>\n",
       "      <td>3.39</td>\n",
       "      <td>17850</td>\n",
       "      <td>United Kingdom</td>\n",
       "      <td>20.34</td>\n",
       "    </tr>\n",
       "    <tr>\n",
       "      <th>2</th>\n",
       "      <td>536365</td>\n",
       "      <td>84406B</td>\n",
       "      <td>CREAM CUPID HEARTS COAT HANGER</td>\n",
       "      <td>8</td>\n",
       "      <td>2010-12-01 08:26:00</td>\n",
       "      <td>2.75</td>\n",
       "      <td>17850</td>\n",
       "      <td>United Kingdom</td>\n",
       "      <td>22.00</td>\n",
       "    </tr>\n",
       "    <tr>\n",
       "      <th>3</th>\n",
       "      <td>536365</td>\n",
       "      <td>84029G</td>\n",
       "      <td>KNITTED UNION FLAG HOT WATER BOTTLE</td>\n",
       "      <td>6</td>\n",
       "      <td>2010-12-01 08:26:00</td>\n",
       "      <td>3.39</td>\n",
       "      <td>17850</td>\n",
       "      <td>United Kingdom</td>\n",
       "      <td>20.34</td>\n",
       "    </tr>\n",
       "    <tr>\n",
       "      <th>4</th>\n",
       "      <td>536365</td>\n",
       "      <td>84029E</td>\n",
       "      <td>RED WOOLLY HOTTIE WHITE HEART.</td>\n",
       "      <td>6</td>\n",
       "      <td>2010-12-01 08:26:00</td>\n",
       "      <td>3.39</td>\n",
       "      <td>17850</td>\n",
       "      <td>United Kingdom</td>\n",
       "      <td>20.34</td>\n",
       "    </tr>\n",
       "  </tbody>\n",
       "</table>\n",
       "</div>"
      ],
      "text/plain": [
       "   InvoiceNo StockCode                          Description  Quantity  \\\n",
       "0     536365    85123A   WHITE HANGING HEART T-LIGHT HOLDER         6   \n",
       "1     536365     71053                  WHITE METAL LANTERN         6   \n",
       "2     536365    84406B       CREAM CUPID HEARTS COAT HANGER         8   \n",
       "3     536365    84029G  KNITTED UNION FLAG HOT WATER BOTTLE         6   \n",
       "4     536365    84029E       RED WOOLLY HOTTIE WHITE HEART.         6   \n",
       "\n",
       "          InvoiceDate  UnitPrice  CustomerID         Country  Amount  \n",
       "0 2010-12-01 08:26:00       2.55       17850  United Kingdom   15.30  \n",
       "1 2010-12-01 08:26:00       3.39       17850  United Kingdom   20.34  \n",
       "2 2010-12-01 08:26:00       2.75       17850  United Kingdom   22.00  \n",
       "3 2010-12-01 08:26:00       3.39       17850  United Kingdom   20.34  \n",
       "4 2010-12-01 08:26:00       3.39       17850  United Kingdom   20.34  "
      ]
     },
     "execution_count": 172,
     "metadata": {},
     "output_type": "execute_result"
    }
   ],
   "source": [
    "new_df.head()"
   ]
  },
  {
   "cell_type": "code",
   "execution_count": 179,
   "metadata": {},
   "outputs": [
    {
     "data": {
      "text/plain": [
       "Description\n",
       "PAPER CRAFT , LITTLE BIRDIE           1.563098\n",
       "MEDIUM CERAMIC TOP STORAGE JAR        1.503678\n",
       "WORLD WAR 2 GLIDERS ASSTD DESIGNS     1.050139\n",
       "POPCORN HOLDER                        0.949168\n",
       "JUMBO BAG RED RETROSPOT               0.891233\n",
       "WHITE HANGING HEART T-LIGHT HOLDER    0.709845\n",
       "ASSORTED COLOUR BIRD ORNAMENT         0.682441\n",
       "PACK OF 72 RETROSPOT CAKE CASES       0.650231\n",
       "RABBIT NIGHT LIGHT                    0.524963\n",
       "MINI PAINT SET VINTAGE                0.503233\n",
       "Name: Quantity, dtype: float64"
      ]
     },
     "execution_count": 179,
     "metadata": {},
     "output_type": "execute_result"
    }
   ],
   "source": [
    "(new_df.groupby('Description')['Quantity'].sum().sort_values(ascending = False).head(10)/new_df.groupby('Description')['Quantity'].sum().sum())*100"
   ]
  },
  {
   "cell_type": "code",
   "execution_count": 181,
   "metadata": {},
   "outputs": [
    {
     "data": {
      "text/plain": [
       "Description\n",
       "PAPER CRAFT , LITTLE BIRDIE           1.890494\n",
       "REGENCY CAKESTAND 3 TIER              1.600117\n",
       "WHITE HANGING HEART T-LIGHT HOLDER    1.128929\n",
       "JUMBO BAG RED RETROSPOT               0.956311\n",
       "MEDIUM CERAMIC TOP STORAGE JAR        0.913624\n",
       "POSTAGE                               0.873083\n",
       "PARTY BUNTING                         0.772542\n",
       "ASSORTED COLOUR BIRD ORNAMENT         0.634920\n",
       "Manual                                0.603495\n",
       "RABBIT NIGHT LIGHT                    0.576185\n",
       "Name: Amount, dtype: float64"
      ]
     },
     "execution_count": 181,
     "metadata": {},
     "output_type": "execute_result"
    }
   ],
   "source": [
    "(new_df.groupby('Description')['Amount'].sum().sort_values(ascending = False).head(10)/new_df.groupby('Description')['Amount'].sum().sum())*100"
   ]
  },
  {
   "cell_type": "code",
   "execution_count": 175,
   "metadata": {},
   "outputs": [
    {
     "data": {
      "text/html": [
       "<div>\n",
       "<style scoped>\n",
       "    .dataframe tbody tr th:only-of-type {\n",
       "        vertical-align: middle;\n",
       "    }\n",
       "\n",
       "    .dataframe tbody tr th {\n",
       "        vertical-align: top;\n",
       "    }\n",
       "\n",
       "    .dataframe thead th {\n",
       "        text-align: right;\n",
       "    }\n",
       "</style>\n",
       "<table border=\"1\" class=\"dataframe\">\n",
       "  <thead>\n",
       "    <tr style=\"text-align: right;\">\n",
       "      <th></th>\n",
       "      <th>InvoiceNo</th>\n",
       "      <th>StockCode</th>\n",
       "      <th>Description</th>\n",
       "      <th>Quantity</th>\n",
       "      <th>InvoiceDate</th>\n",
       "      <th>UnitPrice</th>\n",
       "      <th>CustomerID</th>\n",
       "      <th>Country</th>\n",
       "      <th>Amount</th>\n",
       "    </tr>\n",
       "  </thead>\n",
       "  <tbody>\n",
       "  </tbody>\n",
       "</table>\n",
       "</div>"
      ],
      "text/plain": [
       "Empty DataFrame\n",
       "Columns: [InvoiceNo, StockCode, Description, Quantity, InvoiceDate, UnitPrice, CustomerID, Country, Amount]\n",
       "Index: []"
      ]
     },
     "execution_count": 175,
     "metadata": {},
     "output_type": "execute_result"
    }
   ],
   "source": [
    "new_df[new_df['StockCode'] == 23843]"
   ]
  },
  {
   "cell_type": "code",
   "execution_count": 176,
   "metadata": {},
   "outputs": [
    {
     "data": {
      "text/plain": [
       "(397924, 9)"
      ]
     },
     "execution_count": 176,
     "metadata": {},
     "output_type": "execute_result"
    }
   ],
   "source": [
    "new_df.shape"
   ]
  },
  {
   "cell_type": "code",
   "execution_count": 177,
   "metadata": {},
   "outputs": [
    {
     "data": {
      "text/html": [
       "<div>\n",
       "<style scoped>\n",
       "    .dataframe tbody tr th:only-of-type {\n",
       "        vertical-align: middle;\n",
       "    }\n",
       "\n",
       "    .dataframe tbody tr th {\n",
       "        vertical-align: top;\n",
       "    }\n",
       "\n",
       "    .dataframe thead th {\n",
       "        text-align: right;\n",
       "    }\n",
       "</style>\n",
       "<table border=\"1\" class=\"dataframe\">\n",
       "  <thead>\n",
       "    <tr style=\"text-align: right;\">\n",
       "      <th></th>\n",
       "      <th>InvoiceNo</th>\n",
       "      <th>StockCode</th>\n",
       "      <th>Description</th>\n",
       "      <th>Quantity</th>\n",
       "      <th>InvoiceDate</th>\n",
       "      <th>UnitPrice</th>\n",
       "      <th>CustomerID</th>\n",
       "      <th>Country</th>\n",
       "      <th>Amount</th>\n",
       "    </tr>\n",
       "  </thead>\n",
       "  <tbody>\n",
       "    <tr>\n",
       "      <th>0</th>\n",
       "      <td>536365</td>\n",
       "      <td>85123A</td>\n",
       "      <td>WHITE HANGING HEART T-LIGHT HOLDER</td>\n",
       "      <td>6</td>\n",
       "      <td>2010-12-01 08:26:00</td>\n",
       "      <td>2.55</td>\n",
       "      <td>17850</td>\n",
       "      <td>United Kingdom</td>\n",
       "      <td>15.30</td>\n",
       "    </tr>\n",
       "    <tr>\n",
       "      <th>1</th>\n",
       "      <td>536365</td>\n",
       "      <td>71053</td>\n",
       "      <td>WHITE METAL LANTERN</td>\n",
       "      <td>6</td>\n",
       "      <td>2010-12-01 08:26:00</td>\n",
       "      <td>3.39</td>\n",
       "      <td>17850</td>\n",
       "      <td>United Kingdom</td>\n",
       "      <td>20.34</td>\n",
       "    </tr>\n",
       "    <tr>\n",
       "      <th>2</th>\n",
       "      <td>536365</td>\n",
       "      <td>84406B</td>\n",
       "      <td>CREAM CUPID HEARTS COAT HANGER</td>\n",
       "      <td>8</td>\n",
       "      <td>2010-12-01 08:26:00</td>\n",
       "      <td>2.75</td>\n",
       "      <td>17850</td>\n",
       "      <td>United Kingdom</td>\n",
       "      <td>22.00</td>\n",
       "    </tr>\n",
       "    <tr>\n",
       "      <th>3</th>\n",
       "      <td>536365</td>\n",
       "      <td>84029G</td>\n",
       "      <td>KNITTED UNION FLAG HOT WATER BOTTLE</td>\n",
       "      <td>6</td>\n",
       "      <td>2010-12-01 08:26:00</td>\n",
       "      <td>3.39</td>\n",
       "      <td>17850</td>\n",
       "      <td>United Kingdom</td>\n",
       "      <td>20.34</td>\n",
       "    </tr>\n",
       "    <tr>\n",
       "      <th>4</th>\n",
       "      <td>536365</td>\n",
       "      <td>84029E</td>\n",
       "      <td>RED WOOLLY HOTTIE WHITE HEART.</td>\n",
       "      <td>6</td>\n",
       "      <td>2010-12-01 08:26:00</td>\n",
       "      <td>3.39</td>\n",
       "      <td>17850</td>\n",
       "      <td>United Kingdom</td>\n",
       "      <td>20.34</td>\n",
       "    </tr>\n",
       "  </tbody>\n",
       "</table>\n",
       "</div>"
      ],
      "text/plain": [
       "   InvoiceNo StockCode                          Description  Quantity  \\\n",
       "0     536365    85123A   WHITE HANGING HEART T-LIGHT HOLDER         6   \n",
       "1     536365     71053                  WHITE METAL LANTERN         6   \n",
       "2     536365    84406B       CREAM CUPID HEARTS COAT HANGER         8   \n",
       "3     536365    84029G  KNITTED UNION FLAG HOT WATER BOTTLE         6   \n",
       "4     536365    84029E       RED WOOLLY HOTTIE WHITE HEART.         6   \n",
       "\n",
       "          InvoiceDate  UnitPrice  CustomerID         Country  Amount  \n",
       "0 2010-12-01 08:26:00       2.55       17850  United Kingdom   15.30  \n",
       "1 2010-12-01 08:26:00       3.39       17850  United Kingdom   20.34  \n",
       "2 2010-12-01 08:26:00       2.75       17850  United Kingdom   22.00  \n",
       "3 2010-12-01 08:26:00       3.39       17850  United Kingdom   20.34  \n",
       "4 2010-12-01 08:26:00       3.39       17850  United Kingdom   20.34  "
      ]
     },
     "execution_count": 177,
     "metadata": {},
     "output_type": "execute_result"
    }
   ],
   "source": [
    "new_df.head()"
   ]
  },
  {
   "cell_type": "code",
   "execution_count": 182,
   "metadata": {},
   "outputs": [],
   "source": [
    "new_df.to_csv('new_df.csv')"
   ]
  },
  {
   "cell_type": "code",
   "execution_count": null,
   "metadata": {},
   "outputs": [],
   "source": []
  }
 ],
 "metadata": {
  "kernelspec": {
   "display_name": "Python 3",
   "language": "python",
   "name": "python3"
  },
  "language_info": {
   "codemirror_mode": {
    "name": "ipython",
    "version": 3
   },
   "file_extension": ".py",
   "mimetype": "text/x-python",
   "name": "python",
   "nbconvert_exporter": "python",
   "pygments_lexer": "ipython3",
   "version": "3.8.3"
  }
 },
 "nbformat": 4,
 "nbformat_minor": 4
}
