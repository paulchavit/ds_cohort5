{
 "cells": [
  {
   "cell_type": "markdown",
   "metadata": {},
   "source": [
    "# Data Wrangling in Python\n",
    "\n",
    "### Case Study - Analysis of NYC 311 Service Requests\n",
    "\n",
    "In this analysis, we will look at the 311 Service Requests dataset published by New York City. \n",
    "\n",
    "#### What are 311 Service Requests?\n",
    "\n",
    "311 Service Requests are requests made by residents for city services such as noise complains, or issues with water and utilities. Each request is recorded along with several pieces of associated information such as the type of request and where in the city the request originated.\n",
    "\n",
    "#### Dataset\n",
    "The current dataset includes more than 17 million rows of data and contains data from 2010 to the present.\n",
    "\n",
    "The full dataset is updated daily and can be accessed [on the NYC Open Data Wesbite](https://nycopendata.socrata.com/Social-Services/311-Service-Requests-from-2010-to-Present/erm2-nwe9).\n",
    "\n",
    "#### Analysis\n",
    "\n",
    "We will look into a small subset of this data: all complaints for the month of April 2018. \n",
    "\n",
    "The question we will try to answer with the analysis of the 311 NYC data is as follows:\n",
    "\n",
    "> What part of the city has the most noise complaints on Sunday?\n",
    "\n",
    "[comment]: <> (some materials in this notebook are based from Julia Evans https://jvns.ca/blog/2013/12/22/cooking-with-pandas/)"
   ]
  },
  {
   "cell_type": "markdown",
   "metadata": {},
   "source": [
    "## Part 0 - Importing Libraries"
   ]
  },
  {
   "cell_type": "code",
   "execution_count": 52,
   "metadata": {
    "ExecuteTime": {
     "end_time": "2020-09-02T02:26:09.769256Z",
     "start_time": "2020-09-02T02:26:08.411692Z"
    }
   },
   "outputs": [],
   "source": [
    "import numpy as np\n",
    "import pandas as pd\n",
    "import matplotlib.pyplot as plt"
   ]
  },
  {
   "cell_type": "markdown",
   "metadata": {},
   "source": [
    "## Part 1 - Reading the data\n",
    "For this demonstration, download the data from the link. \n",
    "\n",
    "Once we have read the data, it's a good idea to check the `head`, `shape`, and `info` of the result to make sure all rows and columns have been captured.\n",
    "- `head` or `tail` will show the first or last few records of your DataFrame\n",
    "- `shape` will show you the number of rows and columns\n",
    "- `info` will show you the columns and their respective data types\n",
    "\n",
    "**Note:** \n",
    "- Make sure that the file is in the correct folder or update the path in the read_csv() function to include the correct path to the file. \n",
    "- The `pd.read_csv` command has [many options](https://pandas.pydata.org/pandas-docs/stable/reference/api/pandas.read_csv.html) that allow you to control how the file is read. For example, some files will have headers while others won't. Pandas will try to detect these things automatically, but in some cases you may need to play around wiht the options to get it just right."
   ]
  },
  {
   "cell_type": "code",
   "execution_count": 77,
   "metadata": {
    "ExecuteTime": {
     "end_time": "2020-09-02T02:26:12.704564Z",
     "start_time": "2020-09-02T02:26:10.783386Z"
    }
   },
   "outputs": [],
   "source": [
    "file = 'C_311_Service_Requests_APRIL2018.csv'"
   ]
  },
  {
   "cell_type": "code",
   "execution_count": 78,
   "metadata": {
    "ExecuteTime": {
     "end_time": "2020-09-02T02:26:15.140000Z",
     "start_time": "2020-09-02T02:26:15.111423Z"
    }
   },
   "outputs": [
    {
     "name": "stderr",
     "output_type": "stream",
     "text": [
      "C:\\Users\\63929\\Anaconda3\\lib\\site-packages\\IPython\\core\\interactiveshell.py:3063: DtypeWarning: Columns (8,17,31) have mixed types.Specify dtype option on import or set low_memory=False.\n",
      "  interactivity=interactivity, compiler=compiler, result=result)\n"
     ]
    }
   ],
   "source": [
    "complaints = pd.read_csv(file)"
   ]
  },
  {
   "cell_type": "code",
   "execution_count": 79,
   "metadata": {
    "ExecuteTime": {
     "end_time": "2020-09-02T02:26:17.310287Z",
     "start_time": "2020-09-02T02:26:17.306087Z"
    },
    "scrolled": true
   },
   "outputs": [
    {
     "data": {
      "text/html": [
       "<div>\n",
       "<style scoped>\n",
       "    .dataframe tbody tr th:only-of-type {\n",
       "        vertical-align: middle;\n",
       "    }\n",
       "\n",
       "    .dataframe tbody tr th {\n",
       "        vertical-align: top;\n",
       "    }\n",
       "\n",
       "    .dataframe thead th {\n",
       "        text-align: right;\n",
       "    }\n",
       "</style>\n",
       "<table border=\"1\" class=\"dataframe\">\n",
       "  <thead>\n",
       "    <tr style=\"text-align: right;\">\n",
       "      <th></th>\n",
       "      <th>Unique Key</th>\n",
       "      <th>Created Date</th>\n",
       "      <th>Closed Date</th>\n",
       "      <th>Agency</th>\n",
       "      <th>Agency Name</th>\n",
       "      <th>Complaint Type</th>\n",
       "      <th>Descriptor</th>\n",
       "      <th>Location Type</th>\n",
       "      <th>Incident Zip</th>\n",
       "      <th>Incident Address</th>\n",
       "      <th>...</th>\n",
       "      <th>Vehicle Type</th>\n",
       "      <th>Taxi Company Borough</th>\n",
       "      <th>Taxi Pick Up Location</th>\n",
       "      <th>Bridge Highway Name</th>\n",
       "      <th>Bridge Highway Direction</th>\n",
       "      <th>Road Ramp</th>\n",
       "      <th>Bridge Highway Segment</th>\n",
       "      <th>Latitude</th>\n",
       "      <th>Longitude</th>\n",
       "      <th>Location</th>\n",
       "    </tr>\n",
       "  </thead>\n",
       "  <tbody>\n",
       "    <tr>\n",
       "      <th>0</th>\n",
       "      <td>38837194</td>\n",
       "      <td>04/01/2018 12:00:00 AM</td>\n",
       "      <td>04/10/2018 12:00:00 AM</td>\n",
       "      <td>DOHMH</td>\n",
       "      <td>Department of Health and Mental Hygiene</td>\n",
       "      <td>Standing Water</td>\n",
       "      <td>Swimming Pool - Unmaintained</td>\n",
       "      <td>1-2 Family Dwelling</td>\n",
       "      <td>10312</td>\n",
       "      <td>45 JEANETTE AVENUE</td>\n",
       "      <td>...</td>\n",
       "      <td>NaN</td>\n",
       "      <td>NaN</td>\n",
       "      <td>NaN</td>\n",
       "      <td>NaN</td>\n",
       "      <td>NaN</td>\n",
       "      <td>NaN</td>\n",
       "      <td>NaN</td>\n",
       "      <td>40.543132</td>\n",
       "      <td>-74.175614</td>\n",
       "      <td>(40.54313178878882, -74.17561421997694)</td>\n",
       "    </tr>\n",
       "    <tr>\n",
       "      <th>1</th>\n",
       "      <td>38837043</td>\n",
       "      <td>04/01/2018 12:00:00 AM</td>\n",
       "      <td>03/12/2018 12:00:00 AM</td>\n",
       "      <td>DOHMH</td>\n",
       "      <td>Department of Health and Mental Hygiene</td>\n",
       "      <td>Rodent</td>\n",
       "      <td>Condition Attracting Rodents</td>\n",
       "      <td>3+ Family Apt. Building</td>\n",
       "      <td>11217</td>\n",
       "      <td>399 ATLANTIC AVENUE</td>\n",
       "      <td>...</td>\n",
       "      <td>NaN</td>\n",
       "      <td>NaN</td>\n",
       "      <td>NaN</td>\n",
       "      <td>NaN</td>\n",
       "      <td>NaN</td>\n",
       "      <td>NaN</td>\n",
       "      <td>NaN</td>\n",
       "      <td>40.687177</td>\n",
       "      <td>-73.984820</td>\n",
       "      <td>(40.687177293988285, -73.98481975668435)</td>\n",
       "    </tr>\n",
       "    <tr>\n",
       "      <th>2</th>\n",
       "      <td>38836824</td>\n",
       "      <td>04/01/2018 12:00:00 AM</td>\n",
       "      <td>04/09/2018 12:00:00 AM</td>\n",
       "      <td>DOHMH</td>\n",
       "      <td>Department of Health and Mental Hygiene</td>\n",
       "      <td>Rodent</td>\n",
       "      <td>Rat Sighting</td>\n",
       "      <td>Commercial Building</td>\n",
       "      <td>11224</td>\n",
       "      <td>2980 WEST   29 STREET</td>\n",
       "      <td>...</td>\n",
       "      <td>NaN</td>\n",
       "      <td>NaN</td>\n",
       "      <td>NaN</td>\n",
       "      <td>NaN</td>\n",
       "      <td>NaN</td>\n",
       "      <td>NaN</td>\n",
       "      <td>NaN</td>\n",
       "      <td>40.574249</td>\n",
       "      <td>-73.995169</td>\n",
       "      <td>(40.57424936932171, -73.99516925322999)</td>\n",
       "    </tr>\n",
       "    <tr>\n",
       "      <th>3</th>\n",
       "      <td>38836823</td>\n",
       "      <td>04/01/2018 12:00:00 AM</td>\n",
       "      <td>03/20/2018 12:00:00 AM</td>\n",
       "      <td>DOHMH</td>\n",
       "      <td>Department of Health and Mental Hygiene</td>\n",
       "      <td>Rodent</td>\n",
       "      <td>Rat Sighting</td>\n",
       "      <td>3+ Family Apt. Building</td>\n",
       "      <td>10025</td>\n",
       "      <td>360 CENTRAL PARK WEST</td>\n",
       "      <td>...</td>\n",
       "      <td>NaN</td>\n",
       "      <td>NaN</td>\n",
       "      <td>NaN</td>\n",
       "      <td>NaN</td>\n",
       "      <td>NaN</td>\n",
       "      <td>NaN</td>\n",
       "      <td>NaN</td>\n",
       "      <td>40.791567</td>\n",
       "      <td>-73.964767</td>\n",
       "      <td>(40.79156678627206, -73.9647670611818)</td>\n",
       "    </tr>\n",
       "    <tr>\n",
       "      <th>4</th>\n",
       "      <td>38836788</td>\n",
       "      <td>04/01/2018 12:00:00 AM</td>\n",
       "      <td>04/04/2018 06:19:08 PM</td>\n",
       "      <td>DOHMH</td>\n",
       "      <td>Department of Health and Mental Hygiene</td>\n",
       "      <td>Unsanitary Animal Pvt Property</td>\n",
       "      <td>Dog</td>\n",
       "      <td>3+ Family Apartment Building</td>\n",
       "      <td>10454</td>\n",
       "      <td>590 EAST  138 STREET</td>\n",
       "      <td>...</td>\n",
       "      <td>NaN</td>\n",
       "      <td>NaN</td>\n",
       "      <td>NaN</td>\n",
       "      <td>NaN</td>\n",
       "      <td>NaN</td>\n",
       "      <td>NaN</td>\n",
       "      <td>NaN</td>\n",
       "      <td>40.806377</td>\n",
       "      <td>-73.916446</td>\n",
       "      <td>(40.806377143967396, -73.91644582317069)</td>\n",
       "    </tr>\n",
       "  </tbody>\n",
       "</table>\n",
       "<p>5 rows × 41 columns</p>\n",
       "</div>"
      ],
      "text/plain": [
       "   Unique Key            Created Date             Closed Date Agency  \\\n",
       "0    38837194  04/01/2018 12:00:00 AM  04/10/2018 12:00:00 AM  DOHMH   \n",
       "1    38837043  04/01/2018 12:00:00 AM  03/12/2018 12:00:00 AM  DOHMH   \n",
       "2    38836824  04/01/2018 12:00:00 AM  04/09/2018 12:00:00 AM  DOHMH   \n",
       "3    38836823  04/01/2018 12:00:00 AM  03/20/2018 12:00:00 AM  DOHMH   \n",
       "4    38836788  04/01/2018 12:00:00 AM  04/04/2018 06:19:08 PM  DOHMH   \n",
       "\n",
       "                               Agency Name                  Complaint Type  \\\n",
       "0  Department of Health and Mental Hygiene                  Standing Water   \n",
       "1  Department of Health and Mental Hygiene                          Rodent   \n",
       "2  Department of Health and Mental Hygiene                          Rodent   \n",
       "3  Department of Health and Mental Hygiene                          Rodent   \n",
       "4  Department of Health and Mental Hygiene  Unsanitary Animal Pvt Property   \n",
       "\n",
       "                     Descriptor                 Location Type Incident Zip  \\\n",
       "0  Swimming Pool - Unmaintained           1-2 Family Dwelling        10312   \n",
       "1  Condition Attracting Rodents       3+ Family Apt. Building        11217   \n",
       "2                  Rat Sighting           Commercial Building        11224   \n",
       "3                  Rat Sighting       3+ Family Apt. Building        10025   \n",
       "4                           Dog  3+ Family Apartment Building        10454   \n",
       "\n",
       "        Incident Address  ... Vehicle Type Taxi Company Borough  \\\n",
       "0     45 JEANETTE AVENUE  ...          NaN                  NaN   \n",
       "1    399 ATLANTIC AVENUE  ...          NaN                  NaN   \n",
       "2  2980 WEST   29 STREET  ...          NaN                  NaN   \n",
       "3  360 CENTRAL PARK WEST  ...          NaN                  NaN   \n",
       "4   590 EAST  138 STREET  ...          NaN                  NaN   \n",
       "\n",
       "  Taxi Pick Up Location Bridge Highway Name Bridge Highway Direction  \\\n",
       "0                   NaN                 NaN                      NaN   \n",
       "1                   NaN                 NaN                      NaN   \n",
       "2                   NaN                 NaN                      NaN   \n",
       "3                   NaN                 NaN                      NaN   \n",
       "4                   NaN                 NaN                      NaN   \n",
       "\n",
       "  Road Ramp Bridge Highway Segment   Latitude  Longitude  \\\n",
       "0       NaN                    NaN  40.543132 -74.175614   \n",
       "1       NaN                    NaN  40.687177 -73.984820   \n",
       "2       NaN                    NaN  40.574249 -73.995169   \n",
       "3       NaN                    NaN  40.791567 -73.964767   \n",
       "4       NaN                    NaN  40.806377 -73.916446   \n",
       "\n",
       "                                   Location  \n",
       "0   (40.54313178878882, -74.17561421997694)  \n",
       "1  (40.687177293988285, -73.98481975668435)  \n",
       "2   (40.57424936932171, -73.99516925322999)  \n",
       "3    (40.79156678627206, -73.9647670611818)  \n",
       "4  (40.806377143967396, -73.91644582317069)  \n",
       "\n",
       "[5 rows x 41 columns]"
      ]
     },
     "execution_count": 79,
     "metadata": {},
     "output_type": "execute_result"
    }
   ],
   "source": [
    "complaints.head()"
   ]
  },
  {
   "cell_type": "code",
   "execution_count": 80,
   "metadata": {
    "ExecuteTime": {
     "end_time": "2020-09-02T02:26:18.962450Z",
     "start_time": "2020-09-02T02:26:18.958362Z"
    }
   },
   "outputs": [
    {
     "name": "stdout",
     "output_type": "stream",
     "text": [
      "<class 'pandas.core.frame.DataFrame'>\n",
      "RangeIndex: 199830 entries, 0 to 199829\n",
      "Data columns (total 41 columns):\n",
      " #   Column                          Non-Null Count   Dtype  \n",
      "---  ------                          --------------   -----  \n",
      " 0   Unique Key                      199830 non-null  int64  \n",
      " 1   Created Date                    199830 non-null  object \n",
      " 2   Closed Date                     187914 non-null  object \n",
      " 3   Agency                          199830 non-null  object \n",
      " 4   Agency Name                     199830 non-null  object \n",
      " 5   Complaint Type                  199830 non-null  object \n",
      " 6   Descriptor                      197616 non-null  object \n",
      " 7   Location Type                   157352 non-null  object \n",
      " 8   Incident Zip                    192231 non-null  object \n",
      " 9   Incident Address                167945 non-null  object \n",
      " 10  Street Name                     167938 non-null  object \n",
      " 11  Cross Street 1                  115928 non-null  object \n",
      " 12  Cross Street 2                  115273 non-null  object \n",
      " 13  Intersection Street 1           25035 non-null   object \n",
      " 14  Intersection Street 2           24913 non-null   object \n",
      " 15  Address Type                    195197 non-null  object \n",
      " 16  City                            192248 non-null  object \n",
      " 17  Landmark                        44 non-null      object \n",
      " 18  Facility Type                   64712 non-null   object \n",
      " 19  Status                          199830 non-null  object \n",
      " 20  Due Date                        89625 non-null   object \n",
      " 21  Resolution Description          184982 non-null  object \n",
      " 22  Resolution Action Updated Date  194970 non-null  object \n",
      " 23  Community Board                 199830 non-null  object \n",
      " 24  BBL                             160346 non-null  float64\n",
      " 25  Borough                         199830 non-null  object \n",
      " 26  X Coordinate (State Plane)      187190 non-null  object \n",
      " 27  Y Coordinate (State Plane)      187190 non-null  object \n",
      " 28  Open Data Channel Type          199830 non-null  object \n",
      " 29  Park Facility Name              199830 non-null  object \n",
      " 30  Park Borough                    199830 non-null  object \n",
      " 31  Vehicle Type                    1 non-null       object \n",
      " 32  Taxi Company Borough            163 non-null     object \n",
      " 33  Taxi Pick Up Location           873 non-null     object \n",
      " 34  Bridge Highway Name             382 non-null     object \n",
      " 35  Bridge Highway Direction        382 non-null     object \n",
      " 36  Road Ramp                       378 non-null     object \n",
      " 37  Bridge Highway Segment          527 non-null     object \n",
      " 38  Latitude                        187190 non-null  float64\n",
      " 39  Longitude                       187190 non-null  float64\n",
      " 40  Location                        187190 non-null  object \n",
      "dtypes: float64(3), int64(1), object(37)\n",
      "memory usage: 34.3+ MB\n"
     ]
    }
   ],
   "source": [
    "complaints.info()"
   ]
  },
  {
   "cell_type": "code",
   "execution_count": null,
   "metadata": {
    "ExecuteTime": {
     "end_time": "2020-07-24T11:34:57.398549Z",
     "start_time": "2020-07-24T11:34:57.394152Z"
    }
   },
   "outputs": [],
   "source": []
  },
  {
   "cell_type": "code",
   "execution_count": null,
   "metadata": {
    "ExecuteTime": {
     "end_time": "2020-09-02T02:26:21.157480Z",
     "start_time": "2020-09-02T02:26:20.905722Z"
    }
   },
   "outputs": [],
   "source": []
  },
  {
   "cell_type": "markdown",
   "metadata": {
    "ExecuteTime": {
     "end_time": "2020-06-25T22:54:41.067308Z",
     "start_time": "2020-06-25T22:54:40.833842Z"
    }
   },
   "source": [
    "## Part 2 - Investigating the data\n",
    "\n",
    "Now that we know that all our data has been stored in the DataFrame, lets see what columns we want to use, what data is in there, and figure out if we need to clean up the data at all.\n",
    "\n",
    "The columns we are interested in are:\n",
    "1. **Created Date** - to determine which day of the week the complaint was filed\n",
    "2. **Borough** - to determine which part of the city the complaint originated from\n",
    "3. **Complaint Type** - to determine the category of complaint\n",
    "\n",
    "Lets take a look at these columns and see what we find there.\n",
    "- functions like `unique()` and `value_counts()` are useful to investigate columns with string or date values\n",
    "- functions like `describe()` are useful to investigate columns with numerical values and check for outliers"
   ]
  },
  {
   "cell_type": "code",
   "execution_count": 89,
   "metadata": {
    "ExecuteTime": {
     "end_time": "2020-07-24T11:40:44.066626Z",
     "start_time": "2020-07-24T11:40:44.038550Z"
    }
   },
   "outputs": [],
   "source": [
    "complaints['complain_noise'] = complaints['Complaint Type'].str.contains('Noise')"
   ]
  },
  {
   "cell_type": "code",
   "execution_count": 108,
   "metadata": {
    "ExecuteTime": {
     "end_time": "2020-07-24T11:41:51.832639Z",
     "start_time": "2020-07-24T11:41:51.806740Z"
    }
   },
   "outputs": [
    {
     "data": {
      "text/plain": [
       "Borough\n",
       "Unspecified        172\n",
       "STATEN ISLAND      854\n",
       "QUEENS            5751\n",
       "BRONX             6608\n",
       "BROOKLYN          9381\n",
       "MANHATTAN        11911\n",
       "Name: Complaint Type, dtype: int64"
      ]
     },
     "execution_count": 108,
     "metadata": {},
     "output_type": "execute_result"
    }
   ],
   "source": [
    "complaints[complaints['complain_noise'] == True].groupby('Borough').count()['Complaint Type'].sort_values()"
   ]
  },
  {
   "cell_type": "code",
   "execution_count": 112,
   "metadata": {},
   "outputs": [],
   "source": []
  },
  {
   "cell_type": "markdown",
   "metadata": {},
   "source": [
    "Some key observations include:\n",
    "1. There appear to be many different complaint types related to noise like 'Noise - Residential', 'Noise', etc.\n",
    "    - We will have to group these complaints to get an accurate picture of the overall number of noise complaints\n",
    "2. There are some complaints that were logged to an 'Unspecified' borough, but the total number of records is low (~4,000 out of total ~200,000)\n",
    "    - Since we will be grouping our data based on borough we can keep these records\n",
    "3. The data type of the 'Created Date' is currently a string object, which should be converted to a datetime object to allow us to easily filter on any day of the week, month, etc.\n",
    "\n",
    "Based on our observations, the cleanup we can do on these columns includes:\n",
    "1. Redefine 'Created Date' data type for filtering on days of the week (we want the most popular complaint on Sunday).\n",
    "2. Add a new column *'is_noise'* based on *'Complaint Type'* to capture similar noise-related complaints.\n",
    "\n",
    "## Part 3 - Cleaning the data\n",
    "\n",
    "#### 1. Redefine 'Created Date' data type for filtering on days of the week (we want the most popular complaint on Sunday)\n",
    "- By default, pandas read the 'Created Date' column as a string, so we will tell it that this is a date using the `to_datetime` method.\n",
    "- We can double-check to make sure it worked by using the `info()` to check for the column's data type"
   ]
  },
  {
   "cell_type": "code",
   "execution_count": 113,
   "metadata": {
    "ExecuteTime": {
     "end_time": "2020-07-24T11:44:06.934257Z",
     "start_time": "2020-07-24T11:44:06.929050Z"
    }
   },
   "outputs": [],
   "source": [
    "complaints['Created Date'] = pd.to_datetime(complaints['Created Date'])"
   ]
  },
  {
   "cell_type": "code",
   "execution_count": 114,
   "metadata": {
    "ExecuteTime": {
     "end_time": "2020-07-24T11:45:52.674582Z",
     "start_time": "2020-07-24T11:45:31.335400Z"
    }
   },
   "outputs": [
    {
     "data": {
      "text/plain": [
       "dtype('<M8[ns]')"
      ]
     },
     "execution_count": 114,
     "metadata": {},
     "output_type": "execute_result"
    }
   ],
   "source": [
    "complaints['Created Date'].dtypes"
   ]
  },
  {
   "cell_type": "code",
   "execution_count": 126,
   "metadata": {
    "ExecuteTime": {
     "end_time": "2020-07-24T11:46:17.032813Z",
     "start_time": "2020-07-24T11:46:16.777322Z"
    }
   },
   "outputs": [
    {
     "data": {
      "text/plain": [
       "Borough\n",
       "Unspecified        52\n",
       "STATEN ISLAND     182\n",
       "QUEENS           1482\n",
       "BRONX            1679\n",
       "BROOKLYN         2121\n",
       "MANHATTAN        2320\n",
       "Name: Complaint Type, dtype: int64"
      ]
     },
     "execution_count": 126,
     "metadata": {},
     "output_type": "execute_result"
    }
   ],
   "source": [
    "complaints[(complaints['complain_noise'] == True)&(complaints['Created Date'].dt.dayofweek == 6)].groupby('Borough').count()['Complaint Type'].sort_values(ascending = True)"
   ]
  },
  {
   "cell_type": "markdown",
   "metadata": {},
   "source": [
    "#### 2. Add a new column *'is_noise'* based on *'Complaint Type'* to capture similar noise-related complaints like 'Noise' and 'Noise - Residential'\n",
    "- Just by looking at the top 10 complaint types using `value_counts`, we notice the data contains redundancy like 'Noise' and 'Noise - Residential', which is surprisingly common. \n",
    "- Grouping the data before cleaning it up will skew our results, so we need to clean it up first.\n",
    "- We will clean this up by identifying all complaints where the type contains the word 'noise' using the `str.contains` method, and creating a new column to indicate whether the complaint is noise-related *'is_noise'*"
   ]
  },
  {
   "cell_type": "code",
   "execution_count": null,
   "metadata": {
    "ExecuteTime": {
     "end_time": "2020-07-24T11:47:59.053806Z",
     "start_time": "2020-07-24T11:47:58.935861Z"
    }
   },
   "outputs": [],
   "source": []
  },
  {
   "cell_type": "code",
   "execution_count": null,
   "metadata": {
    "ExecuteTime": {
     "end_time": "2020-07-24T11:48:06.699958Z",
     "start_time": "2020-07-24T11:48:06.668941Z"
    }
   },
   "outputs": [],
   "source": []
  },
  {
   "cell_type": "markdown",
   "metadata": {},
   "source": [
    "## Part 4 - Answering the question\n",
    "Remember, our question is as follows:\n",
    "> What part of the city has the most noise complaints on Sunday?\n",
    "\n",
    "Now that our data is clean, all we have to do is:\n",
    "1. Filter on the noise complaints using our new column 'is_noise'\n",
    "2. Filter on the days of the week using the 'Created Date' column, which is super easy now that it's defined as a date\n",
    "    - `dt.dayofweek` returns a different number for each day of the week. Sunday is number 6 as per the [documentation](https://pandas.pydata.org/pandas-docs/stable/reference/api/pandas.Series.dt.dayofweek.html#pandas.Series.dt.dayofweek).\n",
    "3. Group the data by neighbourhood using the 'Borough' column, and sort to show the neighbourhoods at the top of the list.\n",
    "\n",
    "> Once we do this, it becomes clear that Manhattan has the most noise complaints on Sundays, followed closely by Brooklyn."
   ]
  },
  {
   "cell_type": "code",
   "execution_count": null,
   "metadata": {
    "ExecuteTime": {
     "end_time": "2020-07-24T11:52:50.364023Z",
     "start_time": "2020-07-24T11:52:50.282706Z"
    },
    "scrolled": false
   },
   "outputs": [],
   "source": []
  },
  {
   "cell_type": "code",
   "execution_count": null,
   "metadata": {
    "ExecuteTime": {
     "end_time": "2020-07-24T11:54:54.400643Z",
     "start_time": "2020-07-24T11:54:54.217851Z"
    }
   },
   "outputs": [],
   "source": []
  },
  {
   "cell_type": "markdown",
   "metadata": {},
   "source": [
    "## Part 5 - Making clean data available to others\n",
    "Now that we have cleaned our data, and added a new column, we can write it out to a file for future analysis."
   ]
  },
  {
   "cell_type": "code",
   "execution_count": 127,
   "metadata": {},
   "outputs": [],
   "source": [
    "complaints.to_csv('complaints_0.csv')"
   ]
  },
  {
   "cell_type": "code",
   "execution_count": 15,
   "metadata": {},
   "outputs": [],
   "source": [
    "df = pd.read_excel('C_Online_Retail.xlsx')"
   ]
  },
  {
   "cell_type": "code",
   "execution_count": 14,
   "metadata": {},
   "outputs": [
    {
     "data": {
      "text/html": [
       "<div>\n",
       "<style scoped>\n",
       "    .dataframe tbody tr th:only-of-type {\n",
       "        vertical-align: middle;\n",
       "    }\n",
       "\n",
       "    .dataframe tbody tr th {\n",
       "        vertical-align: top;\n",
       "    }\n",
       "\n",
       "    .dataframe thead th {\n",
       "        text-align: right;\n",
       "    }\n",
       "</style>\n",
       "<table border=\"1\" class=\"dataframe\">\n",
       "  <thead>\n",
       "    <tr style=\"text-align: right;\">\n",
       "      <th></th>\n",
       "      <th>InvoiceNo</th>\n",
       "      <th>StockCode</th>\n",
       "      <th>Description</th>\n",
       "      <th>Quantity</th>\n",
       "      <th>InvoiceDate</th>\n",
       "      <th>UnitPrice</th>\n",
       "      <th>CustomerID</th>\n",
       "      <th>Country</th>\n",
       "    </tr>\n",
       "  </thead>\n",
       "  <tbody>\n",
       "    <tr>\n",
       "      <th>0</th>\n",
       "      <td>536365</td>\n",
       "      <td>85123A</td>\n",
       "      <td>WHITE HANGING HEART T-LIGHT HOLDER</td>\n",
       "      <td>6</td>\n",
       "      <td>2010-12-01 08:26:00</td>\n",
       "      <td>2.55</td>\n",
       "      <td>17850.0</td>\n",
       "      <td>United Kingdom</td>\n",
       "    </tr>\n",
       "    <tr>\n",
       "      <th>1</th>\n",
       "      <td>536365</td>\n",
       "      <td>71053</td>\n",
       "      <td>WHITE METAL LANTERN</td>\n",
       "      <td>6</td>\n",
       "      <td>2010-12-01 08:26:00</td>\n",
       "      <td>3.39</td>\n",
       "      <td>17850.0</td>\n",
       "      <td>United Kingdom</td>\n",
       "    </tr>\n",
       "    <tr>\n",
       "      <th>2</th>\n",
       "      <td>536365</td>\n",
       "      <td>84406B</td>\n",
       "      <td>CREAM CUPID HEARTS COAT HANGER</td>\n",
       "      <td>8</td>\n",
       "      <td>2010-12-01 08:26:00</td>\n",
       "      <td>2.75</td>\n",
       "      <td>17850.0</td>\n",
       "      <td>United Kingdom</td>\n",
       "    </tr>\n",
       "    <tr>\n",
       "      <th>3</th>\n",
       "      <td>536365</td>\n",
       "      <td>84029G</td>\n",
       "      <td>KNITTED UNION FLAG HOT WATER BOTTLE</td>\n",
       "      <td>6</td>\n",
       "      <td>2010-12-01 08:26:00</td>\n",
       "      <td>3.39</td>\n",
       "      <td>17850.0</td>\n",
       "      <td>United Kingdom</td>\n",
       "    </tr>\n",
       "    <tr>\n",
       "      <th>4</th>\n",
       "      <td>536365</td>\n",
       "      <td>84029E</td>\n",
       "      <td>RED WOOLLY HOTTIE WHITE HEART.</td>\n",
       "      <td>6</td>\n",
       "      <td>2010-12-01 08:26:00</td>\n",
       "      <td>3.39</td>\n",
       "      <td>17850.0</td>\n",
       "      <td>United Kingdom</td>\n",
       "    </tr>\n",
       "  </tbody>\n",
       "</table>\n",
       "</div>"
      ],
      "text/plain": [
       "  InvoiceNo StockCode                          Description  Quantity  \\\n",
       "0    536365    85123A   WHITE HANGING HEART T-LIGHT HOLDER         6   \n",
       "1    536365     71053                  WHITE METAL LANTERN         6   \n",
       "2    536365    84406B       CREAM CUPID HEARTS COAT HANGER         8   \n",
       "3    536365    84029G  KNITTED UNION FLAG HOT WATER BOTTLE         6   \n",
       "4    536365    84029E       RED WOOLLY HOTTIE WHITE HEART.         6   \n",
       "\n",
       "          InvoiceDate  UnitPrice  CustomerID         Country  \n",
       "0 2010-12-01 08:26:00       2.55     17850.0  United Kingdom  \n",
       "1 2010-12-01 08:26:00       3.39     17850.0  United Kingdom  \n",
       "2 2010-12-01 08:26:00       2.75     17850.0  United Kingdom  \n",
       "3 2010-12-01 08:26:00       3.39     17850.0  United Kingdom  \n",
       "4 2010-12-01 08:26:00       3.39     17850.0  United Kingdom  "
      ]
     },
     "execution_count": 14,
     "metadata": {},
     "output_type": "execute_result"
    }
   ],
   "source": [
    "df.head()"
   ]
  },
  {
   "cell_type": "code",
   "execution_count": 34,
   "metadata": {},
   "outputs": [
    {
     "data": {
      "text/plain": [
       "CustomerID\n",
       "14646.0    196719\n",
       "12415.0     77242\n",
       "14911.0     77180\n",
       "17450.0     69029\n",
       "18102.0     64122\n",
       "            ...  \n",
       "16252.0      -158\n",
       "16742.0      -189\n",
       "14213.0      -244\n",
       "15823.0      -283\n",
       "16546.0      -303\n",
       "Name: Quantity, Length: 4372, dtype: int64"
      ]
     },
     "execution_count": 34,
     "metadata": {},
     "output_type": "execute_result"
    }
   ],
   "source": [
    "df.groupby('CustomerID')['Quantity'].sum().sort_values(ascending = False)"
   ]
  },
  {
   "cell_type": "code",
   "execution_count": 38,
   "metadata": {},
   "outputs": [],
   "source": [
    "df['spend'] = df['Quantity']*df['UnitPrice']"
   ]
  },
  {
   "cell_type": "code",
   "execution_count": 39,
   "metadata": {},
   "outputs": [
    {
     "data": {
      "text/html": [
       "<div>\n",
       "<style scoped>\n",
       "    .dataframe tbody tr th:only-of-type {\n",
       "        vertical-align: middle;\n",
       "    }\n",
       "\n",
       "    .dataframe tbody tr th {\n",
       "        vertical-align: top;\n",
       "    }\n",
       "\n",
       "    .dataframe thead th {\n",
       "        text-align: right;\n",
       "    }\n",
       "</style>\n",
       "<table border=\"1\" class=\"dataframe\">\n",
       "  <thead>\n",
       "    <tr style=\"text-align: right;\">\n",
       "      <th></th>\n",
       "      <th>InvoiceNo</th>\n",
       "      <th>StockCode</th>\n",
       "      <th>Description</th>\n",
       "      <th>Quantity</th>\n",
       "      <th>InvoiceDate</th>\n",
       "      <th>UnitPrice</th>\n",
       "      <th>CustomerID</th>\n",
       "      <th>Country</th>\n",
       "      <th>spend</th>\n",
       "    </tr>\n",
       "  </thead>\n",
       "  <tbody>\n",
       "    <tr>\n",
       "      <th>0</th>\n",
       "      <td>536365</td>\n",
       "      <td>85123A</td>\n",
       "      <td>WHITE HANGING HEART T-LIGHT HOLDER</td>\n",
       "      <td>6</td>\n",
       "      <td>2010-12-01 08:26:00</td>\n",
       "      <td>2.55</td>\n",
       "      <td>17850.0</td>\n",
       "      <td>United Kingdom</td>\n",
       "      <td>15.30</td>\n",
       "    </tr>\n",
       "    <tr>\n",
       "      <th>1</th>\n",
       "      <td>536365</td>\n",
       "      <td>71053</td>\n",
       "      <td>WHITE METAL LANTERN</td>\n",
       "      <td>6</td>\n",
       "      <td>2010-12-01 08:26:00</td>\n",
       "      <td>3.39</td>\n",
       "      <td>17850.0</td>\n",
       "      <td>United Kingdom</td>\n",
       "      <td>20.34</td>\n",
       "    </tr>\n",
       "    <tr>\n",
       "      <th>2</th>\n",
       "      <td>536365</td>\n",
       "      <td>84406B</td>\n",
       "      <td>CREAM CUPID HEARTS COAT HANGER</td>\n",
       "      <td>8</td>\n",
       "      <td>2010-12-01 08:26:00</td>\n",
       "      <td>2.75</td>\n",
       "      <td>17850.0</td>\n",
       "      <td>United Kingdom</td>\n",
       "      <td>22.00</td>\n",
       "    </tr>\n",
       "    <tr>\n",
       "      <th>3</th>\n",
       "      <td>536365</td>\n",
       "      <td>84029G</td>\n",
       "      <td>KNITTED UNION FLAG HOT WATER BOTTLE</td>\n",
       "      <td>6</td>\n",
       "      <td>2010-12-01 08:26:00</td>\n",
       "      <td>3.39</td>\n",
       "      <td>17850.0</td>\n",
       "      <td>United Kingdom</td>\n",
       "      <td>20.34</td>\n",
       "    </tr>\n",
       "    <tr>\n",
       "      <th>4</th>\n",
       "      <td>536365</td>\n",
       "      <td>84029E</td>\n",
       "      <td>RED WOOLLY HOTTIE WHITE HEART.</td>\n",
       "      <td>6</td>\n",
       "      <td>2010-12-01 08:26:00</td>\n",
       "      <td>3.39</td>\n",
       "      <td>17850.0</td>\n",
       "      <td>United Kingdom</td>\n",
       "      <td>20.34</td>\n",
       "    </tr>\n",
       "  </tbody>\n",
       "</table>\n",
       "</div>"
      ],
      "text/plain": [
       "  InvoiceNo StockCode                          Description  Quantity  \\\n",
       "0    536365    85123A   WHITE HANGING HEART T-LIGHT HOLDER         6   \n",
       "1    536365     71053                  WHITE METAL LANTERN         6   \n",
       "2    536365    84406B       CREAM CUPID HEARTS COAT HANGER         8   \n",
       "3    536365    84029G  KNITTED UNION FLAG HOT WATER BOTTLE         6   \n",
       "4    536365    84029E       RED WOOLLY HOTTIE WHITE HEART.         6   \n",
       "\n",
       "          InvoiceDate  UnitPrice  CustomerID         Country  spend  \n",
       "0 2010-12-01 08:26:00       2.55     17850.0  United Kingdom  15.30  \n",
       "1 2010-12-01 08:26:00       3.39     17850.0  United Kingdom  20.34  \n",
       "2 2010-12-01 08:26:00       2.75     17850.0  United Kingdom  22.00  \n",
       "3 2010-12-01 08:26:00       3.39     17850.0  United Kingdom  20.34  \n",
       "4 2010-12-01 08:26:00       3.39     17850.0  United Kingdom  20.34  "
      ]
     },
     "execution_count": 39,
     "metadata": {},
     "output_type": "execute_result"
    }
   ],
   "source": [
    "df.head()"
   ]
  },
  {
   "cell_type": "code",
   "execution_count": 46,
   "metadata": {},
   "outputs": [
    {
     "data": {
      "text/plain": [
       "CustomerID\n",
       "14646.0    279489.02\n",
       "18102.0    256438.49\n",
       "17450.0    187482.17\n",
       "14911.0    132572.62\n",
       "12415.0    123725.45\n",
       "             ...    \n",
       "12503.0     -1126.00\n",
       "17603.0     -1165.30\n",
       "14213.0     -1192.20\n",
       "15369.0     -1592.49\n",
       "17448.0     -4287.63\n",
       "Name: spend, Length: 4372, dtype: float64"
      ]
     },
     "execution_count": 46,
     "metadata": {},
     "output_type": "execute_result"
    }
   ],
   "source": [
    "df.groupby('CustomerID')['spend'].sum().sort_values(ascending = False)"
   ]
  },
  {
   "cell_type": "code",
   "execution_count": 47,
   "metadata": {},
   "outputs": [],
   "source": [
    "df['InvoiceDate'] = pd.to_datetime(df['InvoiceDate'])"
   ]
  },
  {
   "cell_type": "code",
   "execution_count": 59,
   "metadata": {},
   "outputs": [],
   "source": [
    "df['day_of_week'] = df['InvoiceDate'].dt.dayofweek"
   ]
  },
  {
   "cell_type": "code",
   "execution_count": 63,
   "metadata": {},
   "outputs": [
    {
     "data": {
      "text/plain": [
       "day_of_week\n",
       "3    1167823\n",
       "2     969558\n",
       "1     961543\n",
       "0     815354\n",
       "4     794440\n",
       "6     467732\n",
       "Name: Quantity, dtype: int64"
      ]
     },
     "execution_count": 63,
     "metadata": {},
     "output_type": "execute_result"
    }
   ],
   "source": [
    "df.groupby('day_of_week')['Quantity'].sum().sort_values(ascending = False)"
   ]
  },
  {
   "cell_type": "code",
   "execution_count": 68,
   "metadata": {},
   "outputs": [
    {
     "data": {
      "text/html": [
       "<div>\n",
       "<style scoped>\n",
       "    .dataframe tbody tr th:only-of-type {\n",
       "        vertical-align: middle;\n",
       "    }\n",
       "\n",
       "    .dataframe tbody tr th {\n",
       "        vertical-align: top;\n",
       "    }\n",
       "\n",
       "    .dataframe thead th {\n",
       "        text-align: right;\n",
       "    }\n",
       "</style>\n",
       "<table border=\"1\" class=\"dataframe\">\n",
       "  <thead>\n",
       "    <tr style=\"text-align: right;\">\n",
       "      <th></th>\n",
       "      <th>InvoiceNo</th>\n",
       "      <th>StockCode</th>\n",
       "      <th>Description</th>\n",
       "      <th>Quantity</th>\n",
       "      <th>InvoiceDate</th>\n",
       "      <th>UnitPrice</th>\n",
       "      <th>CustomerID</th>\n",
       "      <th>Country</th>\n",
       "      <th>spend</th>\n",
       "      <th>day_of_week</th>\n",
       "    </tr>\n",
       "  </thead>\n",
       "  <tbody>\n",
       "  </tbody>\n",
       "</table>\n",
       "</div>"
      ],
      "text/plain": [
       "Empty DataFrame\n",
       "Columns: [InvoiceNo, StockCode, Description, Quantity, InvoiceDate, UnitPrice, CustomerID, Country, spend, day_of_week]\n",
       "Index: []"
      ]
     },
     "execution_count": 68,
     "metadata": {},
     "output_type": "execute_result"
    }
   ],
   "source": [
    "df[df['day_of_week'] == 5]"
   ]
  },
  {
   "cell_type": "code",
   "execution_count": 69,
   "metadata": {},
   "outputs": [
    {
     "data": {
      "text/plain": [
       "StockCode\n",
       "22197      56450\n",
       "84077      53847\n",
       "85099B     47363\n",
       "85123A     38830\n",
       "84879      36221\n",
       "           ...  \n",
       "79323LP    -2618\n",
       "79323W     -4838\n",
       "72140F     -5368\n",
       "23003      -8516\n",
       "23005     -14418\n",
       "Name: Quantity, Length: 4070, dtype: int64"
      ]
     },
     "execution_count": 69,
     "metadata": {},
     "output_type": "execute_result"
    }
   ],
   "source": [
    "df.groupby('StockCode')['Quantity'].sum().sort_values(ascending = False)"
   ]
  },
  {
   "cell_type": "code",
   "execution_count": 76,
   "metadata": {},
   "outputs": [
    {
     "data": {
      "text/plain": [
       "['POPCORN HOLDER', 'SMALL POPCORN HOLDER']"
      ]
     },
     "execution_count": 76,
     "metadata": {},
     "output_type": "execute_result"
    }
   ],
   "source": [
    "list(set(df[df['StockCode']==22197]['Description'].values))"
   ]
  },
  {
   "cell_type": "code",
   "execution_count": null,
   "metadata": {},
   "outputs": [],
   "source": []
  }
 ],
 "metadata": {
  "kernelspec": {
   "display_name": "Python 3",
   "language": "python",
   "name": "python3"
  },
  "language_info": {
   "codemirror_mode": {
    "name": "ipython",
    "version": 3
   },
   "file_extension": ".py",
   "mimetype": "text/x-python",
   "name": "python",
   "nbconvert_exporter": "python",
   "pygments_lexer": "ipython3",
   "version": "3.7.6"
  }
 },
 "nbformat": 4,
 "nbformat_minor": 4
}
