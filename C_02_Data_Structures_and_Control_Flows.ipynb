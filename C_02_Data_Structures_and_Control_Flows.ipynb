{
 "cells": [
  {
   "cell_type": "markdown",
   "metadata": {},
   "source": [
    "# Data Structures\n",
    "\n",
    "While lists are the most widely used data structure in Python, they are not the only one. Other built-in data structures are sets and dictionaries:\n",
    "- Sets - unordered collections without duplicates.\n",
    "- Dictionaries - maps from one value (often strings) to another.\n",
    "\n",
    "An important feature of Python data structures is that some are mutable and some are immutable; mutation and mutability are key concepts discussed in this section.  \n",
    "\n",
    "For example, slicing is non-mutating.  Slicing a list does not change/mutate the list itself.  See the following:"
   ]
  },
  {
   "cell_type": "code",
   "execution_count": null,
   "metadata": {},
   "outputs": [],
   "source": [
    "L = ['a', 'b', 'c']\n",
    "L[1:]"
   ]
  },
  {
   "cell_type": "markdown",
   "metadata": {},
   "source": [
    "Slicing is non-mutating.  While `L[1:]` returns a sub-list, the original list **`L`** remains unchanged/unmutated:"
   ]
  },
  {
   "cell_type": "code",
   "execution_count": null,
   "metadata": {},
   "outputs": [],
   "source": [
    "L"
   ]
  },
  {
   "cell_type": "markdown",
   "metadata": {},
   "source": [
    "`map` and `upper` are also non-mutating functions.  Generally a function that returns a value is non-mutating."
   ]
  },
  {
   "cell_type": "code",
   "execution_count": null,
   "metadata": {},
   "outputs": [],
   "source": [
    "list(map(lambda s: s.upper(), L))"
   ]
  },
  {
   "cell_type": "markdown",
   "metadata": {},
   "source": [
    "`L` remains unchanged."
   ]
  },
  {
   "cell_type": "code",
   "execution_count": null,
   "metadata": {},
   "outputs": [],
   "source": [
    "L"
   ]
  },
  {
   "cell_type": "markdown",
   "metadata": {},
   "source": [
    "## Mutating Operations on Lists"
   ]
  },
  {
   "cell_type": "markdown",
   "metadata": {},
   "source": [
    "List is a mutable data type. The most important mutating operation is: **assignment**"
   ]
  },
  {
   "cell_type": "code",
   "execution_count": null,
   "metadata": {},
   "outputs": [],
   "source": [
    "skills = ['Python','SAS','Hadoop']\n",
    "skills[1] = 'R'"
   ]
  },
  {
   "cell_type": "markdown",
   "metadata": {},
   "source": [
    "Assignment does not have any output, but the value of `skills` is changed!"
   ]
  },
  {
   "cell_type": "code",
   "execution_count": null,
   "metadata": {},
   "outputs": [],
   "source": [
    "skills"
   ]
  },
  {
   "cell_type": "code",
   "execution_count": null,
   "metadata": {},
   "outputs": [],
   "source": [
    "skills = ['Python','SAS','Hadoop']\n",
    "my_skills = skills\n",
    "skills[1] = 'R'     # no assignment to my_skills\n",
    "my_skills"
   ]
  },
  {
   "cell_type": "markdown",
   "metadata": {},
   "source": [
    "We have always added a list to another list by using `+`, which is non-mutating:"
   ]
  },
  {
   "cell_type": "code",
   "execution_count": null,
   "metadata": {},
   "outputs": [],
   "source": [
    "L = ['a', 'b', 'c']\n",
    "L + ['d']"
   ]
  },
  {
   "cell_type": "markdown",
   "metadata": {},
   "source": [
    "But `L` is not updated:"
   ]
  },
  {
   "cell_type": "code",
   "execution_count": null,
   "metadata": {},
   "outputs": [],
   "source": [
    "L"
   ]
  },
  {
   "cell_type": "markdown",
   "metadata": {},
   "source": [
    "Assigning the value back to `L` updates it:"
   ]
  },
  {
   "cell_type": "code",
   "execution_count": null,
   "metadata": {},
   "outputs": [],
   "source": [
    "L = L + ['d']   \n",
    "L"
   ]
  },
  {
   "cell_type": "markdown",
   "metadata": {},
   "source": [
    "The `append` operation mutates a list:"
   ]
  },
  {
   "cell_type": "code",
   "execution_count": null,
   "metadata": {},
   "outputs": [],
   "source": [
    "L.append('e')\n",
    "L"
   ]
  },
  {
   "cell_type": "markdown",
   "metadata": {},
   "source": [
    "The `extend` operation is similar to `append` if the input is one single value. However, it will flatten the input list and then append it to the original list."
   ]
  },
  {
   "cell_type": "code",
   "execution_count": null,
   "metadata": {},
   "outputs": [],
   "source": [
    "L.append([1,2,3])"
   ]
  },
  {
   "cell_type": "code",
   "execution_count": null,
   "metadata": {},
   "outputs": [],
   "source": [
    "L"
   ]
  },
  {
   "cell_type": "code",
   "execution_count": null,
   "metadata": {},
   "outputs": [],
   "source": [
    "L.extend([1,2,3])"
   ]
  },
  {
   "cell_type": "code",
   "execution_count": null,
   "metadata": {},
   "outputs": [],
   "source": [
    "L"
   ]
  },
  {
   "cell_type": "markdown",
   "metadata": {},
   "source": [
    "`lis.insert(i, x)` inserts `x` so that it is at location `i` in the list.  (If `i` is out of bounds, it inserts it in the closest place it can.)"
   ]
  },
  {
   "cell_type": "code",
   "execution_count": null,
   "metadata": {},
   "outputs": [],
   "source": [
    "L = ['a', 'b', 'c']\n",
    "L.insert(2, 'd')\n",
    "L"
   ]
  },
  {
   "cell_type": "code",
   "execution_count": null,
   "metadata": {},
   "outputs": [],
   "source": [
    "L.insert(10, 'e')\n",
    "L"
   ]
  },
  {
   "cell_type": "code",
   "execution_count": null,
   "metadata": {},
   "outputs": [],
   "source": [
    "L.insert(-10, 'f')\n",
    "L"
   ]
  },
  {
   "cell_type": "markdown",
   "metadata": {
    "collapsed": true
   },
   "source": [
    "## Tuples, sets and dictionaries\n",
    "\n",
    "We can now explain the other data types of Python.\n",
    "- **Strings**:  Like lists of characters.  Immutable.\n",
    "- **Tuples**:  Tuples are like lists, but are immutable.\n",
    "- **Sets**:  Also like lists, except that they do not have duplicate elements.  Mutable.\n",
    "- **Dictionaries**:  These are tables that associate values with keys (usually strings).  Mutable.\n",
    "\n",
    "\n",
    "**Strings**\n",
    "\n",
    "Strings are immutable"
   ]
  },
  {
   "cell_type": "code",
   "execution_count": null,
   "metadata": {},
   "outputs": [],
   "source": [
    "company = 'Eskwelabs'\n",
    "company[0] = 'A'"
   ]
  },
  {
   "cell_type": "code",
   "execution_count": null,
   "metadata": {},
   "outputs": [],
   "source": [
    "'A'+company[1:]"
   ]
  },
  {
   "cell_type": "markdown",
   "metadata": {
    "collapsed": true
   },
   "source": [
    "**Tuples**\n",
    "\n",
    "- Tuples are similar to lists, but they are immutable.\n",
    "- Tuples are written with parentheses instead of square brackets."
   ]
  },
  {
   "cell_type": "code",
   "execution_count": null,
   "metadata": {},
   "outputs": [],
   "source": [
    "courses = ('Programming', 'Stats', 'Math') \n",
    "courses[2] = 'Algorithms'"
   ]
  },
  {
   "cell_type": "markdown",
   "metadata": {},
   "source": [
    "- Tuples support all the non-mutating list operations:"
   ]
  },
  {
   "cell_type": "code",
   "execution_count": null,
   "metadata": {},
   "outputs": [],
   "source": [
    "courses[1:]"
   ]
  },
  {
   "cell_type": "code",
   "execution_count": null,
   "metadata": {},
   "outputs": [],
   "source": [
    "list(map(lambda s: s.upper(), courses))"
   ]
  },
  {
   "cell_type": "markdown",
   "metadata": {},
   "source": [
    "Tuples and lists both allow a shorthand for assignment that allows all the elements of the tuple or list to be assigned to variables at once:"
   ]
  },
  {
   "cell_type": "code",
   "execution_count": null,
   "metadata": {},
   "outputs": [],
   "source": [
    "(a,b) = (1,2)   # works with lists also\n",
    "a"
   ]
  },
  {
   "cell_type": "code",
   "execution_count": null,
   "metadata": {},
   "outputs": [],
   "source": [
    "b"
   ]
  },
  {
   "cell_type": "markdown",
   "metadata": {},
   "source": [
    "This provides a handy way to swap variables:"
   ]
  },
  {
   "cell_type": "code",
   "execution_count": null,
   "metadata": {},
   "outputs": [],
   "source": [
    "(a,b) = (b,a)\n",
    "a"
   ]
  },
  {
   "cell_type": "code",
   "execution_count": null,
   "metadata": {},
   "outputs": [],
   "source": [
    "b"
   ]
  },
  {
   "cell_type": "markdown",
   "metadata": {},
   "source": [
    "- Function can return multiple values at the same time. \n",
    "- Make sure you have the exact same number of variables when you assign the output of your function."
   ]
  },
  {
   "cell_type": "code",
   "execution_count": null,
   "metadata": {},
   "outputs": [],
   "source": [
    "def square_all(x, y):\n",
    "    return x**2, y**2"
   ]
  },
  {
   "cell_type": "code",
   "execution_count": null,
   "metadata": {},
   "outputs": [],
   "source": [
    "x, y = square_all(2,3)"
   ]
  },
  {
   "cell_type": "code",
   "execution_count": null,
   "metadata": {},
   "outputs": [],
   "source": [
    "x, y"
   ]
  },
  {
   "cell_type": "markdown",
   "metadata": {},
   "source": [
    "**Set**\n",
    "\n",
    "- A set is an unordered collection with no duplicate elements.  Sets are mutable.\n",
    "\n",
    "- To create a set, you can use either curly braces or the `set()` function."
   ]
  },
  {
   "cell_type": "code",
   "execution_count": null,
   "metadata": {},
   "outputs": [],
   "source": [
    "vowels = {'u','a','e','i','o','u','i'}\n",
    "vowels"
   ]
  },
  {
   "cell_type": "code",
   "execution_count": null,
   "metadata": {},
   "outputs": [],
   "source": [
    "fruit = set(['apple', 'orange', 'apple', 'pear'])\n",
    "fruit"
   ]
  },
  {
   "cell_type": "markdown",
   "metadata": {},
   "source": [
    "- Sets support non-mutating list operations, as long as they don’t depend on order:"
   ]
  },
  {
   "cell_type": "code",
   "execution_count": null,
   "metadata": {},
   "outputs": [],
   "source": [
    "primes = {2, 3, 5, 7}\n",
    "primes[2]"
   ]
  },
  {
   "cell_type": "code",
   "execution_count": null,
   "metadata": {},
   "outputs": [],
   "source": [
    "sum(primes)"
   ]
  },
  {
   "cell_type": "code",
   "execution_count": null,
   "metadata": {},
   "outputs": [],
   "source": [
    "set(map(lambda x: x*x, primes))       # order is not guaranteed"
   ]
  },
  {
   "cell_type": "markdown",
   "metadata": {},
   "source": [
    "`set` is a mutable data type, but **all the elements need to be immutable data type**, i.e. you can't add a list to a set."
   ]
  },
  {
   "cell_type": "code",
   "execution_count": null,
   "metadata": {},
   "outputs": [],
   "source": [
    "primes.add('9')\n",
    "primes.add((11,13,17))\n",
    "primes"
   ]
  },
  {
   "cell_type": "markdown",
   "metadata": {},
   "source": [
    "Sets have mathematical operations like union (|), intersection (&), difference (-), and symmetric difference (^)."
   ]
  },
  {
   "cell_type": "code",
   "execution_count": null,
   "metadata": {},
   "outputs": [],
   "source": [
    "a = {'a', 'b', 'c'}\n",
    "b = {'b', 'c', 'd'}"
   ]
  },
  {
   "cell_type": "code",
   "execution_count": null,
   "metadata": {},
   "outputs": [],
   "source": [
    "a | b       # union"
   ]
  },
  {
   "cell_type": "code",
   "execution_count": null,
   "metadata": {},
   "outputs": [],
   "source": [
    "a & b       # intersection"
   ]
  },
  {
   "cell_type": "code",
   "execution_count": null,
   "metadata": {},
   "outputs": [],
   "source": [
    "a - b       # difference"
   ]
  },
  {
   "cell_type": "code",
   "execution_count": null,
   "metadata": {},
   "outputs": [],
   "source": [
    "a ^ b       # symmetric difference (a-b | b-a)"
   ]
  },
  {
   "cell_type": "markdown",
   "metadata": {},
   "source": [
    "**Dictionaries**\n",
    "\n",
    "- A dictionary is a set of keys with associated values. Each key can have just one value associated with it.  Dictionaries are mutable.\n",
    " - Any immutable object can be a key, including numbers, strings, and tuples of numbers or strings.  Strings are the most common.\n",
    " - Any object can be a value.\n",
    "\n",
    "- Dictionaries are written in curly braces (like sets), with the key/value pairs separated by colons:\n"
   ]
  },
  {
   "cell_type": "code",
   "execution_count": null,
   "metadata": {},
   "outputs": [],
   "source": [
    "employee = {'sex': 'male', 'height': 6.1, 'age': 30}\n",
    "employee"
   ]
  },
  {
   "cell_type": "markdown",
   "metadata": {},
   "source": [
    "The most important operation on dictionaries is key lookup:"
   ]
  },
  {
   "cell_type": "code",
   "execution_count": null,
   "metadata": {},
   "outputs": [],
   "source": [
    "employee['age']"
   ]
  },
  {
   "cell_type": "markdown",
   "metadata": {},
   "source": [
    "We can add new key: value pairs to the dictionary:"
   ]
  },
  {
   "cell_type": "code",
   "execution_count": null,
   "metadata": {},
   "outputs": [],
   "source": [
    "employee['city'] = 'New York'\n",
    "employee"
   ]
  },
  {
   "cell_type": "markdown",
   "metadata": {},
   "source": [
    "It is illegal to access a key that is not present:"
   ]
  },
  {
   "cell_type": "code",
   "execution_count": null,
   "metadata": {},
   "outputs": [],
   "source": [
    "employee['weight']"
   ]
  },
  {
   "cell_type": "markdown",
   "metadata": {},
   "source": [
    "but you can check if a key is present using the in operator:"
   ]
  },
  {
   "cell_type": "code",
   "execution_count": null,
   "metadata": {},
   "outputs": [],
   "source": [
    "'weight' in employee"
   ]
  },
  {
   "cell_type": "markdown",
   "metadata": {},
   "source": [
    "You can also get a list of the keys, the values, or all key/value pairs:"
   ]
  },
  {
   "cell_type": "code",
   "execution_count": null,
   "metadata": {},
   "outputs": [],
   "source": [
    "employee = {'sex': 'male', 'height': 6.1, 'age': 30}\n",
    "employee.keys()"
   ]
  },
  {
   "cell_type": "code",
   "execution_count": null,
   "metadata": {},
   "outputs": [],
   "source": [
    "employee.values()"
   ]
  },
  {
   "cell_type": "code",
   "execution_count": null,
   "metadata": {},
   "outputs": [],
   "source": [
    "employee.items()"
   ]
  },
  {
   "cell_type": "markdown",
   "metadata": {},
   "source": [
    "For convenience, you can construct a dictionary from a list (or set) of tuples:"
   ]
  },
  {
   "cell_type": "code",
   "execution_count": null,
   "metadata": {},
   "outputs": [],
   "source": [
    "dict([('sape', 4139), ('guido', 4127), ('jack', 4098)])"
   ]
  },
  {
   "cell_type": "markdown",
   "metadata": {},
   "source": [
    "**Example 1**\n",
    "\n",
    "- Given the following dictionary:\n",
    "```\n",
    "inventory = {'pumpkin': 20, 'fruit': ['apple', 'pear'], 'vegetable': ['potato','onion','lettuce']}\n",
    "```\n",
    "- Modify inventory as follows:\n",
    " - Add a meat inventory item containing 'beef', 'chicken', and 'pork'.\n",
    " - Sort the vegetables (Recall the sorted function.)\n",
    " - Add five more pumpkins.\n",
    "After these changes, inventory is:\n",
    "```\n",
    "{'vegetable': ['lettuce', 'onion', 'potato'], 'fruit': ['apple', 'pear'],\n",
    " 'meat': ['beef', 'chicken', 'pork'], 'pumpkin': 25}\n",
    "```"
   ]
  },
  {
   "cell_type": "code",
   "execution_count": null,
   "metadata": {
    "ExecuteTime": {
     "end_time": "2020-09-02T02:13:42.861715Z",
     "start_time": "2020-09-02T02:13:42.848326Z"
    }
   },
   "outputs": [],
   "source": [
    "inventory = {'pumpkin' : 20, 'fruit' : ['apple', 'pear'],\n",
    "           'vegetable' : ['potato','onion','lettuce']}\n",
    "\n",
    "#### Your code here\n",
    "\n",
    "inventory "
   ]
  },
  {
   "cell_type": "markdown",
   "metadata": {},
   "source": [
    "# Conditionals\n",
    "\n",
    "- We have seen boolean functions in the `filter` operator. Booleans can also be used inside functions, to do different calculations depending upon properties of the input.\n",
    "\n",
    "- For example, recall the function firstelt.  It returns the first element of a list:\n",
    "```\n",
    "￼def firstelt(L):\n",
    "    return L[0]\n",
    "```\n",
    "- It throws an error if its argument is the empty list. The function could be more robust if it returns **None** when passed the empty list.  \n",
    "- **None** is a special value in Python used for these types of cases."
   ]
  },
  {
   "cell_type": "code",
   "execution_count": null,
   "metadata": {},
   "outputs": [],
   "source": [
    "def firstelt(L):\n",
    "    if L == []:\n",
    "        return None\n",
    "    else:\n",
    "        return L[0]"
   ]
  },
  {
   "cell_type": "code",
   "execution_count": null,
   "metadata": {},
   "outputs": [],
   "source": [
    "L1=[]\n",
    "L2=[1,2,3]\n",
    "print(firstelt(L1))\n",
    "print(firstelt(L2))"
   ]
  },
  {
   "cell_type": "markdown",
   "metadata": {},
   "source": [
    "- The syntax for a conditional in a function is:\n",
    "```\n",
    "if condition:                # any boolean expression\n",
    "    return expression        # return is indented from if\n",
    "else:                        # else starts in same column as if\n",
    "    return expression        # return is indented from else\n",
    "```\n",
    "- The syntax in `lambda` definitions is different:\n",
    "```\n",
    "lambda x: expression if condition else expression\n",
    "```\n",
    "\n",
    "- For example, here is `firstelt` in lambda syntax:"
   ]
  },
  {
   "cell_type": "code",
   "execution_count": null,
   "metadata": {},
   "outputs": [],
   "source": [
    "Firstelt = lambda L: None if L==[] else L[0]"
   ]
  },
  {
   "cell_type": "markdown",
   "metadata": {},
   "source": [
    "Conditionals can be nested arbitrarily:\n",
    "- Return A if c1 is true, B if c1 is false but c2 is true, and C if both are false:\n",
    "```python\n",
    "if c1:\n",
    "    return A\n",
    "else:\n",
    "    if c2:\n",
    "        return B\n",
    "    else:\n",
    "        return C\n",
    "```\n",
    "- Having an `if` follow an `else` is so common there is special syntax for it:\n",
    "```python\n",
    "if c1:\n",
    "    return A\n",
    "elif c2:\n",
    "    return B\n",
    "else:\n",
    "    return C\n",
    "```\n",
    "- Return A if c1 and c2 are true, B if c1 is true but not c2, C if c1 is false but c3 is true, and D if c1 and c3 are both false:\n",
    "```python\n",
    "if c1:\n",
    "    if c2:\n",
    "        return A\n",
    "    else:\n",
    "        return B\n",
    "elif c3:\n",
    "    return C\n",
    "else:\n",
    "    return D\n",
    "```"
   ]
  },
  {
   "cell_type": "markdown",
   "metadata": {},
   "source": [
    "# For loop\n",
    "\n",
    "A simple example is printing the elements of a list. Since `print()` function does not return any value, we can’t use it in `map()`."
   ]
  },
  {
   "cell_type": "code",
   "execution_count": null,
   "metadata": {},
   "outputs": [],
   "source": [
    "words = ['a', 'b', 'c', 'd', 'e']\n",
    "for word in words:\n",
    "    print(word)"
   ]
  },
  {
   "cell_type": "code",
   "execution_count": null,
   "metadata": {},
   "outputs": [],
   "source": [
    "for i in \"anything\":\n",
    "    print(i)"
   ]
  },
  {
   "cell_type": "markdown",
   "metadata": {},
   "source": [
    "Recall that the range function generates a list of numbers:"
   ]
  },
  {
   "cell_type": "code",
   "execution_count": null,
   "metadata": {},
   "outputs": [],
   "source": [
    "for i in range(len(words)):\n",
    "    print(i, words[i])"
   ]
  },
  {
   "cell_type": "markdown",
   "metadata": {},
   "source": [
    "The Python function `enumerate()` returns both the index and element as a tuple from the list, simultaneously."
   ]
  },
  {
   "cell_type": "code",
   "execution_count": null,
   "metadata": {},
   "outputs": [],
   "source": [
    "words = ['a', 'b', 'c', 'd', 'e']\n",
    "for i, e in enumerate(words):\n",
    "    print(i, e)"
   ]
  },
  {
   "cell_type": "markdown",
   "metadata": {},
   "source": [
    "- In addition to the iteration variable taking on values in a list, you may want other variables to take on different values in each iteration.  You can accomplish this by “self-assigning” to those variables.  \n",
    "- The following loop sums the elements of a list:"
   ]
  },
  {
   "cell_type": "code",
   "execution_count": null,
   "metadata": {
    "ExecuteTime": {
     "end_time": "2020-09-01T14:43:56.977289Z",
     "start_time": "2020-09-01T14:43:56.957822Z"
    }
   },
   "outputs": [],
   "source": [
    "primes = [2, 3, 5, 7, 11]\n",
    "sum_ = 0    # Do not overwrite the built-in sum() function\n",
    "for p in primes:\n",
    "    sum_ = sum_ + p\n",
    "sum_"
   ]
  },
  {
   "cell_type": "code",
   "execution_count": null,
   "metadata": {
    "ExecuteTime": {
     "end_time": "2020-09-01T14:44:07.668385Z",
     "start_time": "2020-09-01T14:44:07.664045Z"
    }
   },
   "outputs": [],
   "source": [
    "sum(primes)"
   ]
  },
  {
   "cell_type": "markdown",
   "metadata": {},
   "source": [
    "# List Comprehension\n",
    "\n",
    "- List comprehensions are another notation for defining lists. They mimic the mathematical notation of “set comprehensions” and have a concise syntax.  In one step, list comprehensions can perform the combined operation of any filter and map.\n",
    "- A list comprehension has the form: \n",
    "```\n",
    "[ <expresion> for <element> in <list> if <boolean> ]\n",
    "```\n",
    "\n",
    "- First consider the list comprehension that squares every element in a list, as follows:"
   ]
  },
  {
   "cell_type": "code",
   "execution_count": null,
   "metadata": {},
   "outputs": [],
   "source": [
    "[ x**2 for x in [1, 2, 3, 4, 5]] #pure map"
   ]
  },
  {
   "cell_type": "markdown",
   "metadata": {},
   "source": [
    "Note the above list comprehension has no `if` statement.  The following list comprehension includes an if statement.  This comprehension squares every even element in a list."
   ]
  },
  {
   "cell_type": "code",
   "execution_count": null,
   "metadata": {},
   "outputs": [],
   "source": [
    "[ x*x for x in [1, 2, 3, 4, 5] if x%2==0] #map and filter"
   ]
  },
  {
   "cell_type": "markdown",
   "metadata": {},
   "source": [
    "- A list comprehension can also use if/else statements.  These types of list comprehensions have a slightly different syntax.\n",
    "\n",
    "- A list comprehension with an if/else statements has the form: \n",
    "```\n",
    "[ <expr1> if <boolean> else <expr2> for <element> in <list> ]\n",
    "```\n",
    "- Consider the list comprehension that squares even element in a list and adds two to every odd element, as follows:"
   ]
  },
  {
   "cell_type": "code",
   "execution_count": null,
   "metadata": {},
   "outputs": [],
   "source": [
    "[ x*x if x%2==0 else x+2 for x in [1, 2, 3, 4, 5] ]"
   ]
  },
  {
   "cell_type": "markdown",
   "metadata": {},
   "source": [
    "This final example extracts the first element of every non-empty sublist."
   ]
  },
  {
   "cell_type": "code",
   "execution_count": null,
   "metadata": {},
   "outputs": [],
   "source": [
    "[l[0] for l in nested_list1 if l != []]"
   ]
  },
  {
   "cell_type": "markdown",
   "metadata": {},
   "source": [
    "If you have difficulties understanding list comprehensions, think about it like a for loop. \n",
    "\n",
    "```python\n",
    "for item in list:\n",
    "    if conditional:\n",
    "        expression\n",
    "```"
   ]
  },
  {
   "cell_type": "markdown",
   "metadata": {},
   "source": [
    "# While Loop\n",
    "\n",
    "- While loops are used when the condition for terminating the loop is known, but not necessarily the number of iterations.  Examples include:\n",
    " - Summing the elements of a list up to the first zero.\n",
    " - Using Newton’s method to find the argument of a function that makes it zero valued.  This works by finding values which make the function approach zero.  The iterations stop when the method converges, finding an argument which brings the value within a certain range of zero.\n",
    " - Getting input from a user until the user enters ‘quit’.\n",
    " \n",
    "- When using a while loop, iteration continues until a given condition becomes false:\n",
    "```\n",
    "while <condition>:\n",
    "   statements\n",
    "```\n",
    "- As a first example, this loop prints integers from 0 to 9:"
   ]
  },
  {
   "cell_type": "code",
   "execution_count": null,
   "metadata": {},
   "outputs": [],
   "source": [
    "i = 0\n",
    "while i < 10:\n",
    "    print(i)\n",
    "    i = i + 1"
   ]
  },
  {
   "cell_type": "markdown",
   "metadata": {},
   "source": [
    "This for loop does the same thing:"
   ]
  },
  {
   "cell_type": "code",
   "execution_count": null,
   "metadata": {},
   "outputs": [],
   "source": [
    "for i in range(0, 10):\n",
    "    print(i)"
   ]
  },
  {
   "cell_type": "markdown",
   "metadata": {},
   "source": [
    "- One thing we can do with while loops that is hard to do with for loops is to terminate early.  \n",
    "- This loops adds up integers starting from 1 until the sum exceeds n:"
   ]
  },
  {
   "cell_type": "code",
   "execution_count": null,
   "metadata": {
    "ExecuteTime": {
     "end_time": "2020-09-01T14:45:49.522898Z",
     "start_time": "2020-09-01T14:45:49.516383Z"
    }
   },
   "outputs": [],
   "source": [
    "n = 20\n",
    "i = 1\n",
    "sum_ = 0 # Do not overwrite the built-in sum() function\n",
    "while sum_ <= n:\n",
    "    sum_ = sum_ + i\n",
    "    i = i + 1\n",
    "sum_"
   ]
  },
  {
   "cell_type": "markdown",
   "metadata": {},
   "source": [
    "This loop is similar, but sums the numbers in a list."
   ]
  },
  {
   "cell_type": "code",
   "execution_count": null,
   "metadata": {},
   "outputs": [],
   "source": [
    "L = [5, 10, 15, 20, 25]\n",
    "\n",
    "n = 20\n",
    "i = 0\n",
    "sum_ = 0\n",
    "while sum_ <= n:\n",
    "    sum_ = sum_ + L[i]\n",
    "    i = i + 1\n",
    "    \n",
    "sum_"
   ]
  },
  {
   "cell_type": "markdown",
   "metadata": {},
   "source": [
    "When iterating over a list like this, care must be taken not to go out of bounds. Without doing so, we might end up with the following:"
   ]
  },
  {
   "cell_type": "code",
   "execution_count": null,
   "metadata": {},
   "outputs": [],
   "source": [
    "n = 80\n",
    "i = 0\n",
    "sum_ = 0\n",
    "while sum_ <= n:\n",
    "    sum_ = sum_ + L[i]\n",
    "    i = i + 1\n",
    "sum_"
   ]
  },
  {
   "cell_type": "markdown",
   "metadata": {},
   "source": [
    "This problem can be fixed by modifying the header:"
   ]
  },
  {
   "cell_type": "code",
   "execution_count": null,
   "metadata": {},
   "outputs": [],
   "source": [
    "n = 80\n",
    "i = 0\n",
    "sum_ = 0\n",
    "while sum_ <= n and i < len(L):\n",
    "    sum_ = sum_ + L[i]\n",
    "    i = i + 1\n",
    "    \n",
    "sum_"
   ]
  },
  {
   "cell_type": "markdown",
   "metadata": {},
   "source": [
    "**Break** and **Continue** Statements\n",
    "\n",
    "- The **break** statement immediately terminates the (for or while) loop it is in.  This provides a way to terminate the loop within the middle of the body. \n",
    "\n",
    "- The **continue** statement terminates the current iteration of the loop and goes back to the header.\n",
    "\n",
    "- The loop below adds the values in a list, but ignores negative numbers, and stops if the number exceeds 100:\n"
   ]
  },
  {
   "cell_type": "code",
   "execution_count": null,
   "metadata": {
    "scrolled": false
   },
   "outputs": [],
   "source": [
    "L = [10, -10, 20, -20, 30, -30, 40, -40, 50, -50, 60, -60]\n",
    "\n",
    "sum_ = 0\n",
    "for x in L:\n",
    "    if x < 0:\n",
    "        continue\n",
    "    sum_ = sum_ + x\n",
    "    if sum_ > 100:\n",
    "        break\n",
    "        \n",
    "sum_"
   ]
  },
  {
   "cell_type": "markdown",
   "metadata": {},
   "source": [
    "## Exercises"
   ]
  },
  {
   "cell_type": "markdown",
   "metadata": {
    "ExecuteTime": {
     "end_time": "2020-09-02T02:14:47.386502Z",
     "start_time": "2020-09-02T02:14:47.381479Z"
    }
   },
   "source": [
    "**Exercise 1**\n",
    "\n",
    "Define the following functions using if conditionals:\n",
    " 1. `leap_year(y)` returns true if `y` is divisible by 4, except if it is divisible by 100; but it is still true if `y` is divisible by 400. Thus, 1940 is a leap year, 1900 isn’t, and 2000 is.\n",
    " 2. Use `filter` to define a function `leap_years` that selects from a list of numbers those that represent leap years."
   ]
  },
  {
   "cell_type": "code",
   "execution_count": 34,
   "metadata": {
    "ExecuteTime": {
     "end_time": "2020-09-02T02:15:20.187788Z",
     "start_time": "2020-09-02T02:15:20.184295Z"
    }
   },
   "outputs": [
    {
     "data": {
      "text/plain": [
       "[1940, 2000, 2020, 1964]"
      ]
     },
     "execution_count": 34,
     "metadata": {},
     "output_type": "execute_result"
    }
   ],
   "source": [
    "#### Your code here\n",
    "\n",
    "#1\n",
    "def leap_year(y):\n",
    "    \n",
    "    if y%400 == 0:\n",
    "        return True\n",
    "    elif (y%4 == 0) and (y%100 != 0):\n",
    "        return True\n",
    "    else :\n",
    "        return False\n",
    "    \n",
    "leap_year(2000)\n",
    "        \n",
    "leap_years = lambda L: list(filter(leap_year,L))\n",
    "\n",
    "leap_years([1940,1900,2000,2020,1989,1966,1964])\n",
    "#2\n"
   ]
  },
  {
   "cell_type": "markdown",
   "metadata": {},
   "source": [
    "**Exercise 2**\n",
    "\n",
    "Write list comprehensions to create the following lists:\n",
    " - The square roots of the numbers in `[1, 4, 9, 16]`. (Recall that `math.sqrt` is the square root function.)\n",
    " - The even numbers in a numeric list `L`. Define several lists `L` to test your list comprehension. \n",
    " **Hint** (`n` is even if and only if `n % 2 == 0`.)"
   ]
  },
  {
   "cell_type": "code",
   "execution_count": 25,
   "metadata": {},
   "outputs": [
    {
     "data": {
      "text/plain": [
       "[2, 4, 6, 8, 10, 12]"
      ]
     },
     "execution_count": 25,
     "metadata": {},
     "output_type": "execute_result"
    }
   ],
   "source": [
    "#### Your code here\n",
    "\n",
    "#1\n",
    "import math\n",
    "\n",
    "L = [1, 4, 9, 16]\n",
    "\n",
    "list(map(math.sqrt,L))\n",
    "\n",
    "L_ = [1,2,3,4,5,6,7,8,9,10,11,12,13]\n",
    "\n",
    "def is_even(x):\n",
    "    if x%2 == 0:\n",
    "        return True\n",
    "    else:\n",
    "        return False\n",
    "    \n",
    "list(filter(is_even,L_))\n",
    "\n",
    "#2\n"
   ]
  },
  {
   "cell_type": "markdown",
   "metadata": {},
   "source": [
    "**Exercise 3**\n",
    "\n",
    "Calculate the sum of integers that can be divided by 7 and less than 100. In the following example code, we use while True, which means the while loop will keep running until you break it.\n",
    "\n",
    "```\n",
    "i = 0\n",
    "sum_ = 0\n",
    "while True:\n",
    "\n",
    "\t# Type your code here\n",
    "\n",
    "print sum_\n",
    "```\n"
   ]
  },
  {
   "cell_type": "code",
   "execution_count": 32,
   "metadata": {},
   "outputs": [
    {
     "data": {
      "text/plain": [
       "735"
      ]
     },
     "execution_count": 32,
     "metadata": {},
     "output_type": "execute_result"
    }
   ],
   "source": [
    "sum_ = 0\n",
    "\n",
    "for i in range(1,100):\n",
    "    if i%7 == 0:\n",
    "        sum_ = i + sum_\n",
    "        \n",
    "sum_    "
   ]
  },
  {
   "cell_type": "code",
   "execution_count": null,
   "metadata": {},
   "outputs": [],
   "source": []
  }
 ],
 "metadata": {
  "anaconda-cloud": {},
  "kernelspec": {
   "display_name": "Python 3",
   "language": "python",
   "name": "python3"
  },
  "language_info": {
   "codemirror_mode": {
    "name": "ipython",
    "version": 3
   },
   "file_extension": ".py",
   "mimetype": "text/x-python",
   "name": "python",
   "nbconvert_exporter": "python",
   "pygments_lexer": "ipython3",
   "version": "3.7.6"
  }
 },
 "nbformat": 4,
 "nbformat_minor": 1
}
